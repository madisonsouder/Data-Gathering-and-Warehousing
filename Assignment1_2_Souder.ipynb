{
 "cells": [
  {
   "cell_type": "markdown",
   "id": "c825ca7c",
   "metadata": {},
   "source": [
    "# Assignment #1 - Data Gathering and Warehousing - DSSA-5102"
   ]
  },
  {
   "cell_type": "markdown",
   "id": "3e792669",
   "metadata": {},
   "source": [
    "Instructor: Melissa Laurino<br>\n",
    "Spring 2025"
   ]
  },
  {
   "cell_type": "markdown",
   "id": "db9fe204",
   "metadata": {},
   "source": [
    "Name: Madison Souder\n",
    "<br>\n",
    "Date: February 6, 2025"
   ]
  },
  {
   "cell_type": "markdown",
   "id": "292e9143",
   "metadata": {},
   "source": [
    "<b>Data. Is. Everywhere.</b> <br>\n",
    "Our first objective is to locate and explore <b>TWO</b> datasets about something you are passionate about, or related to a field you would like to work in. Our semester plan is <i>try</i> to work with the same dataset through out the semester. You can find and explore as many datasets as you wish, but Assignment #2 will focus on the one you like the best.\n",
    "There are many great websites that offer public datasets avaialable to download. Examples include but are not limited to:\n",
    "<br>\n",
    "Data.gov - https://data.gov/ - has many government owened public datasets.<br>\n",
    "World Bank Data - https://data.worldbank.org/ - has world economic, social, and environmental data.<br>\n",
    "Google Dataset Search - https://datasetsearch.research.google.com/ - many of these available datasets link to published studies available on Google Scholar in many fields.<br>\n",
    "Kaggle Datasets - https://www.kaggle.com/datasets - a platform for sharing datasets. Anyone can upload to this website.<br>\n",
    "U.S. Census Bureau - https://www.census.gov/ - data on people, places and econoy for the United States.\n",
    "GitHub - https://github.com/ - hosts datasets and completed projects.<br>\n",
    "Federal Reserve Economic Data (FRED) - https://fred.stlouisfed.org/ - Financial and economic data.<br>\n",
    "CDC - https://data.cdc.gov/ - Explore the various data collected by the CDC.<br>\n",
    "NOAA - https://www.ncei.noaa.gov/cdo-web/ - NOAA climate and ocean data. <br>\n",
    "<br>\n",
    "In addition to these resources, occasionally local organizations may be able to provide you with data, or maybe even your own company! Your data source can come from a personal connection, but please be mindful of any data agreements or approvals you may need. If you need approval to use data from your place of employment, please specify that with the instructor so we can ensure no violations to your data agreement will be made this semester.\n",
    "<br>\n",
    "<br>\n",
    "Resources for learning Python:\n",
    "- Data camp - https://www.datacamp.com/category/python - Contact Professor Baldwin for access.<br>\n",
    "- Data Science from Scratch: First Principles with Python - Check Blackboard <br>\n",
    "- Python for Data Analysis Data Wrangling with pandas, NumPy & Jupyter - Check Blackboard"
   ]
  },
  {
   "cell_type": "markdown",
   "id": "712dad64-6ed8-4680-90b7-4e47833e6887",
   "metadata": {},
   "source": [
    "For Assignment #1, our objective is to locate and explore two different datasets using Python. We will choose one of these datasets to clean to prepare for our future database. For each dataset include: <br>\n",
    "- The dataset name, company/organization resonsible for data collection, the download link, and date of access. <br>\n",
    "- Load neccessary packages <br>\n",
    "- Obtain the general info for your data such as size, number of rows/columns, column names, describing the data etc. <br>\n",
    "- What are the unique columns or variables present in your dataset? <br>\n",
    "- Create one quick plot to visualize your data. It is okay if it is messy since your data has not been cleaned yet, but still make sure you are practicing good graphins with a title, axis labels, and anything else needed for your graph.  <br>\n",
    "\n",
    "Comment ALL code to recieve full credit. The above bullet points are to help guide you in your process, but extensive exploration is expected for each data set. <br>\n",
    "<br>\n",
    "Explore various markdown font settings: https://ingeh.medium.com/markdown-for-jupyter-notebooks-cheatsheet-386c05aeebed"
   ]
  },
  {
   "cell_type": "markdown",
   "id": "6c5eadb4",
   "metadata": {},
   "source": [
    "## Dataset #1"
   ]
  },
  {
   "cell_type": "markdown",
   "id": "0bf03c2c",
   "metadata": {},
   "source": [
    "<b>Dataset name:</b> U.S. Chronic Disease Indicators<br>\n",
    "<b>Company/Government Organization: </b>Centers for Disease Control and Prevention (CDC)<br>\n",
    "Download link: https://data.cdc.gov/d/hksd-2xuw<br>\n",
    "Date of Access: February 6, 2025"
   ]
  },
  {
   "cell_type": "markdown",
   "id": "55a352bf",
   "metadata": {},
   "source": [
    "Popular packages to load in working with Python: <br>\n",
    "pandas: https://pandas.pydata.org/about/index.html <br>\n",
    "numpy: https://numpy.org/learn/ <br>\n",
    "matplotlib: https://matplotlib.org/stable/api/pyplot_summary.html"
   ]
  },
  {
   "cell_type": "code",
   "execution_count": 113,
   "id": "f274f2ae",
   "metadata": {
    "scrolled": true
   },
   "outputs": [],
   "source": [
    "# My examples are below, but edit as needed to fit your dataset:\n",
    "import pandas as pd # Reads, writes, shapes, manipulates data\n",
    "import numpy as np # Basic stats and numerical operations\n",
    "import matplotlib.pyplot as plt # Creating basic graphs"
   ]
  },
  {
   "cell_type": "markdown",
   "id": "79c86913",
   "metadata": {},
   "source": [
    "Importing a library as an abbreviation is beneficial to shorten your code and make it more concise. <br>\n",
    "For example, when referencing your data frame without the abbreviation you would write: pandas.DataFrame <br>\n",
    "With an abbreviation, you can just write: pd.DataFrame"
   ]
  },
  {
   "cell_type": "markdown",
   "id": "de7e9968-efb1-482d-b7f7-c309228fbbde",
   "metadata": {},
   "source": [
    "Load your chosen dataset into the notebook below:"
   ]
  },
  {
   "cell_type": "code",
   "execution_count": 116,
   "id": "8dbcdffd",
   "metadata": {},
   "outputs": [],
   "source": [
    "# Be sure to document each line of code like the above example.\n",
    "# Documenting each line of code is helpful when revisiting assignments later in the semester."
   ]
  },
  {
   "cell_type": "code",
   "execution_count": 117,
   "id": "2fc0d288",
   "metadata": {},
   "outputs": [],
   "source": [
    "# Load the locally stored CSV file as a dataframe\n",
    "disease = pd.read_csv(\"U.S._Chronic_Disease_Indicators_20250210.csv\",delimiter=\",\")"
   ]
  },
  {
   "cell_type": "markdown",
   "id": "2d345116-947c-4fa3-ac6f-435a8ea06fcb",
   "metadata": {},
   "source": [
    "We can run df.info() to see how large the dataframe is:"
   ]
  },
  {
   "cell_type": "code",
   "execution_count": 119,
   "id": "bfe1d023-2f96-48af-945a-95ce54d937e5",
   "metadata": {},
   "outputs": [
    {
     "name": "stdout",
     "output_type": "stream",
     "text": [
      "<class 'pandas.core.frame.DataFrame'>\n",
      "RangeIndex: 309215 entries, 0 to 309214\n",
      "Data columns (total 34 columns):\n",
      " #   Column                     Non-Null Count   Dtype  \n",
      "---  ------                     --------------   -----  \n",
      " 0   YearStart                  309215 non-null  int64  \n",
      " 1   YearEnd                    309215 non-null  int64  \n",
      " 2   LocationAbbr               309215 non-null  object \n",
      " 3   LocationDesc               309215 non-null  object \n",
      " 4   DataSource                 309215 non-null  object \n",
      " 5   Topic                      309215 non-null  object \n",
      " 6   Question                   309215 non-null  object \n",
      " 7   Response                   0 non-null       float64\n",
      " 8   DataValueUnit              309215 non-null  object \n",
      " 9   DataValueType              309215 non-null  object \n",
      " 10  DataValue                  209196 non-null  float64\n",
      " 11  DataValueAlt               209196 non-null  float64\n",
      " 12  DataValueFootnoteSymbol    101716 non-null  object \n",
      " 13  DataValueFootnote          101716 non-null  object \n",
      " 14  LowConfidenceLimit         188885 non-null  float64\n",
      " 15  HighConfidenceLimit        188890 non-null  float64\n",
      " 16  StratificationCategory1    309215 non-null  object \n",
      " 17  Stratification1            309215 non-null  object \n",
      " 18  StratificationCategory2    0 non-null       float64\n",
      " 19  Stratification2            0 non-null       float64\n",
      " 20  StratificationCategory3    0 non-null       float64\n",
      " 21  Stratification3            0 non-null       float64\n",
      " 22  Geolocation                303452 non-null  object \n",
      " 23  LocationID                 309215 non-null  int64  \n",
      " 24  TopicID                    309215 non-null  object \n",
      " 25  QuestionID                 309215 non-null  object \n",
      " 26  ResponseID                 0 non-null       float64\n",
      " 27  DataValueTypeID            309215 non-null  object \n",
      " 28  StratificationCategoryID1  309215 non-null  object \n",
      " 29  StratificationID1          309215 non-null  object \n",
      " 30  StratificationCategoryID2  0 non-null       float64\n",
      " 31  StratificationID2          0 non-null       float64\n",
      " 32  StratificationCategoryID3  0 non-null       float64\n",
      " 33  StratificationID3          0 non-null       float64\n",
      "dtypes: float64(14), int64(3), object(17)\n",
      "memory usage: 80.2+ MB\n"
     ]
    }
   ],
   "source": [
    "disease.info()"
   ]
  },
  {
   "cell_type": "markdown",
   "id": "7959c595-f3be-4277-8b84-e0aaa92bfd53",
   "metadata": {},
   "source": [
    "I have 34 columns in my dataset. \n",
    "I have 309215 rows in my dataset."
   ]
  },
  {
   "cell_type": "markdown",
   "id": "741d90c8",
   "metadata": {},
   "source": [
    "#### What are the unique columns or variables present in your dataset? How many rows are there?"
   ]
  },
  {
   "cell_type": "code",
   "execution_count": 122,
   "id": "1ed08a0e",
   "metadata": {},
   "outputs": [
    {
     "data": {
      "text/plain": [
       "Index(['YearStart', 'YearEnd', 'LocationAbbr', 'LocationDesc', 'DataSource',\n",
       "       'Topic', 'Question', 'Response', 'DataValueUnit', 'DataValueType',\n",
       "       'DataValue', 'DataValueAlt', 'DataValueFootnoteSymbol',\n",
       "       'DataValueFootnote', 'LowConfidenceLimit', 'HighConfidenceLimit',\n",
       "       'StratificationCategory1', 'Stratification1', 'StratificationCategory2',\n",
       "       'Stratification2', 'StratificationCategory3', 'Stratification3',\n",
       "       'Geolocation', 'LocationID', 'TopicID', 'QuestionID', 'ResponseID',\n",
       "       'DataValueTypeID', 'StratificationCategoryID1', 'StratificationID1',\n",
       "       'StratificationCategoryID2', 'StratificationID2',\n",
       "       'StratificationCategoryID3', 'StratificationID3'],\n",
       "      dtype='object')"
      ]
     },
     "execution_count": 122,
     "metadata": {},
     "output_type": "execute_result"
    }
   ],
   "source": [
    "# What are the unique column names?\n",
    "disease.columns #This will print out all the column names."
   ]
  },
  {
   "cell_type": "code",
   "execution_count": 123,
   "id": "f944fe78-56d8-43af-9677-819b6ead3c10",
   "metadata": {},
   "outputs": [
    {
     "data": {
      "text/plain": [
       "(309215, 34)"
      ]
     },
     "execution_count": 123,
     "metadata": {},
     "output_type": "execute_result"
    }
   ],
   "source": [
    "# Find and print the total number of columns\n",
    "# Find and print the total number of rows\n",
    "disease.shape #This prints out the number of rows and columns. The first number is rows and the second is columns."
   ]
  },
  {
   "cell_type": "code",
   "execution_count": 124,
   "id": "4b0ba15e-1210-4114-992b-157d5ebfa9f5",
   "metadata": {},
   "outputs": [],
   "source": [
    "# What are the unique column names?\n",
    "# Find and print the total number of columns\n",
    "# Find and print the total number of rows\n",
    "col_names = list(disease.columns) #This saves the columns names as a list.\n",
    "rows, columns = disease.shape #This saves the number of rows and columns as variables. "
   ]
  },
  {
   "cell_type": "markdown",
   "id": "e24b6448-b634-4b7a-9c69-f9a9353cb354",
   "metadata": {},
   "source": [
    "Use print(\" \") statements in python to print text or variables in the output. <br>\n",
    "Use \\n in the print statement to skip a line. Without skipping a line, everything prints close together."
   ]
  },
  {
   "cell_type": "code",
   "execution_count": 126,
   "id": "0b7c5040-0da2-4c7a-8877-faec68d16c5a",
   "metadata": {},
   "outputs": [
    {
     "name": "stdout",
     "output_type": "stream",
     "text": [
      "There are 309215 rows and 34 columns in this data set. \n",
      "These are the columns names: ['YearStart', 'YearEnd', 'LocationAbbr', 'LocationDesc', 'DataSource', 'Topic', 'Question', 'Response', 'DataValueUnit', 'DataValueType', 'DataValue', 'DataValueAlt', 'DataValueFootnoteSymbol', 'DataValueFootnote', 'LowConfidenceLimit', 'HighConfidenceLimit', 'StratificationCategory1', 'Stratification1', 'StratificationCategory2', 'Stratification2', 'StratificationCategory3', 'Stratification3', 'Geolocation', 'LocationID', 'TopicID', 'QuestionID', 'ResponseID', 'DataValueTypeID', 'StratificationCategoryID1', 'StratificationID1', 'StratificationCategoryID2', 'StratificationID2', 'StratificationCategoryID3', 'StratificationID3']\n"
     ]
    }
   ],
   "source": [
    "print(f\"There are {rows} rows and {columns} columns in this data set. \\nThese are the columns names: {col_names}\")"
   ]
  },
  {
   "cell_type": "code",
   "execution_count": 127,
   "id": "26525152-01c2-43ce-8b4d-1720a337892f",
   "metadata": {},
   "outputs": [
    {
     "name": "stdout",
     "output_type": "stream",
     "text": [
      "        YearStart  YearEnd  Response  DataValue  DataValueAlt  \\\n",
      "0            2019     2019       NaN       13.6          13.6   \n",
      "1            2019     2019       NaN       10.6          10.6   \n",
      "2            2019     2019       NaN        NaN           NaN   \n",
      "3            2019     2019       NaN       54.0          54.0   \n",
      "4            2019     2019       NaN       10.3          10.3   \n",
      "...           ...      ...       ...        ...           ...   \n",
      "309210       2022     2022       NaN        NaN           NaN   \n",
      "309211       2022     2022       NaN       14.0          14.0   \n",
      "309212       2022     2022       NaN       64.2          64.2   \n",
      "309213       2022     2022       NaN        NaN           NaN   \n",
      "309214       2022     2022       NaN       19.2          19.2   \n",
      "\n",
      "        LowConfidenceLimit  HighConfidenceLimit  StratificationCategory2  \\\n",
      "0                     12.1                 15.4                      NaN   \n",
      "1                      9.1                 12.2                      NaN   \n",
      "2                      NaN                  NaN                      NaN   \n",
      "3                      NaN                  NaN                      NaN   \n",
      "4                      9.1                 11.7                      NaN   \n",
      "...                    ...                  ...                      ...   \n",
      "309210                 NaN                  NaN                      NaN   \n",
      "309211                12.8                 15.2                      NaN   \n",
      "309212                52.2                 74.6                      NaN   \n",
      "309213                 NaN                  NaN                      NaN   \n",
      "309214                18.3                 20.2                      NaN   \n",
      "\n",
      "        Stratification2  StratificationCategory3  Stratification3  LocationID  \\\n",
      "0                   NaN                      NaN              NaN           5   \n",
      "1                   NaN                      NaN              NaN          16   \n",
      "2                   NaN                      NaN              NaN          18   \n",
      "3                   NaN                      NaN              NaN          19   \n",
      "4                   NaN                      NaN              NaN          19   \n",
      "...                 ...                      ...              ...         ...   \n",
      "309210              NaN                      NaN              NaN          78   \n",
      "309211              NaN                      NaN              NaN          54   \n",
      "309212              NaN                      NaN              NaN          55   \n",
      "309213              NaN                      NaN              NaN          50   \n",
      "309214              NaN                      NaN              NaN          53   \n",
      "\n",
      "        ResponseID  StratificationCategoryID2  StratificationID2  \\\n",
      "0              NaN                        NaN                NaN   \n",
      "1              NaN                        NaN                NaN   \n",
      "2              NaN                        NaN                NaN   \n",
      "3              NaN                        NaN                NaN   \n",
      "4              NaN                        NaN                NaN   \n",
      "...            ...                        ...                ...   \n",
      "309210         NaN                        NaN                NaN   \n",
      "309211         NaN                        NaN                NaN   \n",
      "309212         NaN                        NaN                NaN   \n",
      "309213         NaN                        NaN                NaN   \n",
      "309214         NaN                        NaN                NaN   \n",
      "\n",
      "        StratificationCategoryID3  StratificationID3  \n",
      "0                             NaN                NaN  \n",
      "1                             NaN                NaN  \n",
      "2                             NaN                NaN  \n",
      "3                             NaN                NaN  \n",
      "4                             NaN                NaN  \n",
      "...                           ...                ...  \n",
      "309210                        NaN                NaN  \n",
      "309211                        NaN                NaN  \n",
      "309212                        NaN                NaN  \n",
      "309213                        NaN                NaN  \n",
      "309214                        NaN                NaN  \n",
      "\n",
      "[309215 rows x 17 columns]\n"
     ]
    },
    {
     "data": {
      "text/html": [
       "<div>\n",
       "<style scoped>\n",
       "    .dataframe tbody tr th:only-of-type {\n",
       "        vertical-align: middle;\n",
       "    }\n",
       "\n",
       "    .dataframe tbody tr th {\n",
       "        vertical-align: top;\n",
       "    }\n",
       "\n",
       "    .dataframe thead th {\n",
       "        text-align: right;\n",
       "    }\n",
       "</style>\n",
       "<table border=\"1\" class=\"dataframe\">\n",
       "  <thead>\n",
       "    <tr style=\"text-align: right;\">\n",
       "      <th></th>\n",
       "      <th>YearStart</th>\n",
       "      <th>YearEnd</th>\n",
       "      <th>Response</th>\n",
       "      <th>DataValue</th>\n",
       "      <th>DataValueAlt</th>\n",
       "      <th>LowConfidenceLimit</th>\n",
       "      <th>HighConfidenceLimit</th>\n",
       "      <th>StratificationCategory2</th>\n",
       "      <th>Stratification2</th>\n",
       "      <th>StratificationCategory3</th>\n",
       "      <th>Stratification3</th>\n",
       "      <th>LocationID</th>\n",
       "      <th>ResponseID</th>\n",
       "      <th>StratificationCategoryID2</th>\n",
       "      <th>StratificationID2</th>\n",
       "      <th>StratificationCategoryID3</th>\n",
       "      <th>StratificationID3</th>\n",
       "    </tr>\n",
       "  </thead>\n",
       "  <tbody>\n",
       "    <tr>\n",
       "      <th>count</th>\n",
       "      <td>309215.000000</td>\n",
       "      <td>309215.000000</td>\n",
       "      <td>0.0</td>\n",
       "      <td>2.091960e+05</td>\n",
       "      <td>2.091960e+05</td>\n",
       "      <td>188885.000000</td>\n",
       "      <td>188890.000000</td>\n",
       "      <td>0.0</td>\n",
       "      <td>0.0</td>\n",
       "      <td>0.0</td>\n",
       "      <td>0.0</td>\n",
       "      <td>309215.000000</td>\n",
       "      <td>0.0</td>\n",
       "      <td>0.0</td>\n",
       "      <td>0.0</td>\n",
       "      <td>0.0</td>\n",
       "      <td>0.0</td>\n",
       "    </tr>\n",
       "    <tr>\n",
       "      <th>mean</th>\n",
       "      <td>2020.012195</td>\n",
       "      <td>2020.288540</td>\n",
       "      <td>NaN</td>\n",
       "      <td>6.943569e+02</td>\n",
       "      <td>7.356701e+02</td>\n",
       "      <td>36.825051</td>\n",
       "      <td>46.030554</td>\n",
       "      <td>NaN</td>\n",
       "      <td>NaN</td>\n",
       "      <td>NaN</td>\n",
       "      <td>NaN</td>\n",
       "      <td>31.208693</td>\n",
       "      <td>NaN</td>\n",
       "      <td>NaN</td>\n",
       "      <td>NaN</td>\n",
       "      <td>NaN</td>\n",
       "      <td>NaN</td>\n",
       "    </tr>\n",
       "    <tr>\n",
       "      <th>std</th>\n",
       "      <td>1.530835</td>\n",
       "      <td>1.068591</td>\n",
       "      <td>NaN</td>\n",
       "      <td>1.620341e+04</td>\n",
       "      <td>1.834715e+04</td>\n",
       "      <td>65.025590</td>\n",
       "      <td>69.995643</td>\n",
       "      <td>NaN</td>\n",
       "      <td>NaN</td>\n",
       "      <td>NaN</td>\n",
       "      <td>NaN</td>\n",
       "      <td>17.798773</td>\n",
       "      <td>NaN</td>\n",
       "      <td>NaN</td>\n",
       "      <td>NaN</td>\n",
       "      <td>NaN</td>\n",
       "      <td>NaN</td>\n",
       "    </tr>\n",
       "    <tr>\n",
       "      <th>min</th>\n",
       "      <td>2015.000000</td>\n",
       "      <td>2019.000000</td>\n",
       "      <td>NaN</td>\n",
       "      <td>0.000000e+00</td>\n",
       "      <td>0.000000e+00</td>\n",
       "      <td>0.000000</td>\n",
       "      <td>0.000000</td>\n",
       "      <td>NaN</td>\n",
       "      <td>NaN</td>\n",
       "      <td>NaN</td>\n",
       "      <td>NaN</td>\n",
       "      <td>1.000000</td>\n",
       "      <td>NaN</td>\n",
       "      <td>NaN</td>\n",
       "      <td>NaN</td>\n",
       "      <td>NaN</td>\n",
       "      <td>NaN</td>\n",
       "    </tr>\n",
       "    <tr>\n",
       "      <th>25%</th>\n",
       "      <td>2019.000000</td>\n",
       "      <td>2019.000000</td>\n",
       "      <td>NaN</td>\n",
       "      <td>1.240000e+01</td>\n",
       "      <td>1.240000e+01</td>\n",
       "      <td>9.100000</td>\n",
       "      <td>14.000000</td>\n",
       "      <td>NaN</td>\n",
       "      <td>NaN</td>\n",
       "      <td>NaN</td>\n",
       "      <td>NaN</td>\n",
       "      <td>17.000000</td>\n",
       "      <td>NaN</td>\n",
       "      <td>NaN</td>\n",
       "      <td>NaN</td>\n",
       "      <td>NaN</td>\n",
       "      <td>NaN</td>\n",
       "    </tr>\n",
       "    <tr>\n",
       "      <th>50%</th>\n",
       "      <td>2020.000000</td>\n",
       "      <td>2020.000000</td>\n",
       "      <td>NaN</td>\n",
       "      <td>2.700000e+01</td>\n",
       "      <td>2.700000e+01</td>\n",
       "      <td>19.500000</td>\n",
       "      <td>29.200000</td>\n",
       "      <td>NaN</td>\n",
       "      <td>NaN</td>\n",
       "      <td>NaN</td>\n",
       "      <td>NaN</td>\n",
       "      <td>31.000000</td>\n",
       "      <td>NaN</td>\n",
       "      <td>NaN</td>\n",
       "      <td>NaN</td>\n",
       "      <td>NaN</td>\n",
       "      <td>NaN</td>\n",
       "    </tr>\n",
       "    <tr>\n",
       "      <th>75%</th>\n",
       "      <td>2021.000000</td>\n",
       "      <td>2021.000000</td>\n",
       "      <td>NaN</td>\n",
       "      <td>5.780000e+01</td>\n",
       "      <td>5.780000e+01</td>\n",
       "      <td>40.300000</td>\n",
       "      <td>54.300000</td>\n",
       "      <td>NaN</td>\n",
       "      <td>NaN</td>\n",
       "      <td>NaN</td>\n",
       "      <td>NaN</td>\n",
       "      <td>45.000000</td>\n",
       "      <td>NaN</td>\n",
       "      <td>NaN</td>\n",
       "      <td>NaN</td>\n",
       "      <td>NaN</td>\n",
       "      <td>NaN</td>\n",
       "    </tr>\n",
       "    <tr>\n",
       "      <th>max</th>\n",
       "      <td>2022.000000</td>\n",
       "      <td>2022.000000</td>\n",
       "      <td>NaN</td>\n",
       "      <td>2.925456e+06</td>\n",
       "      <td>2.925456e+06</td>\n",
       "      <td>1427.000000</td>\n",
       "      <td>1485.900000</td>\n",
       "      <td>NaN</td>\n",
       "      <td>NaN</td>\n",
       "      <td>NaN</td>\n",
       "      <td>NaN</td>\n",
       "      <td>78.000000</td>\n",
       "      <td>NaN</td>\n",
       "      <td>NaN</td>\n",
       "      <td>NaN</td>\n",
       "      <td>NaN</td>\n",
       "      <td>NaN</td>\n",
       "    </tr>\n",
       "  </tbody>\n",
       "</table>\n",
       "</div>"
      ],
      "text/plain": [
       "           YearStart        YearEnd  Response     DataValue  DataValueAlt  \\\n",
       "count  309215.000000  309215.000000       0.0  2.091960e+05  2.091960e+05   \n",
       "mean     2020.012195    2020.288540       NaN  6.943569e+02  7.356701e+02   \n",
       "std         1.530835       1.068591       NaN  1.620341e+04  1.834715e+04   \n",
       "min      2015.000000    2019.000000       NaN  0.000000e+00  0.000000e+00   \n",
       "25%      2019.000000    2019.000000       NaN  1.240000e+01  1.240000e+01   \n",
       "50%      2020.000000    2020.000000       NaN  2.700000e+01  2.700000e+01   \n",
       "75%      2021.000000    2021.000000       NaN  5.780000e+01  5.780000e+01   \n",
       "max      2022.000000    2022.000000       NaN  2.925456e+06  2.925456e+06   \n",
       "\n",
       "       LowConfidenceLimit  HighConfidenceLimit  StratificationCategory2  \\\n",
       "count       188885.000000        188890.000000                      0.0   \n",
       "mean            36.825051            46.030554                      NaN   \n",
       "std             65.025590            69.995643                      NaN   \n",
       "min              0.000000             0.000000                      NaN   \n",
       "25%              9.100000            14.000000                      NaN   \n",
       "50%             19.500000            29.200000                      NaN   \n",
       "75%             40.300000            54.300000                      NaN   \n",
       "max           1427.000000          1485.900000                      NaN   \n",
       "\n",
       "       Stratification2  StratificationCategory3  Stratification3  \\\n",
       "count              0.0                      0.0              0.0   \n",
       "mean               NaN                      NaN              NaN   \n",
       "std                NaN                      NaN              NaN   \n",
       "min                NaN                      NaN              NaN   \n",
       "25%                NaN                      NaN              NaN   \n",
       "50%                NaN                      NaN              NaN   \n",
       "75%                NaN                      NaN              NaN   \n",
       "max                NaN                      NaN              NaN   \n",
       "\n",
       "          LocationID  ResponseID  StratificationCategoryID2  \\\n",
       "count  309215.000000         0.0                        0.0   \n",
       "mean       31.208693         NaN                        NaN   \n",
       "std        17.798773         NaN                        NaN   \n",
       "min         1.000000         NaN                        NaN   \n",
       "25%        17.000000         NaN                        NaN   \n",
       "50%        31.000000         NaN                        NaN   \n",
       "75%        45.000000         NaN                        NaN   \n",
       "max        78.000000         NaN                        NaN   \n",
       "\n",
       "       StratificationID2  StratificationCategoryID3  StratificationID3  \n",
       "count                0.0                        0.0                0.0  \n",
       "mean                 NaN                        NaN                NaN  \n",
       "std                  NaN                        NaN                NaN  \n",
       "min                  NaN                        NaN                NaN  \n",
       "25%                  NaN                        NaN                NaN  \n",
       "50%                  NaN                        NaN                NaN  \n",
       "75%                  NaN                        NaN                NaN  \n",
       "max                  NaN                        NaN                NaN  "
      ]
     },
     "execution_count": 127,
     "metadata": {},
     "output_type": "execute_result"
    }
   ],
   "source": [
    "# Describe the numerical columns\n",
    "num_col = disease.select_dtypes(include=[\"int64\",\"float64\"]) # This groups together all the numeric data columns and saves them. \n",
    "# int64: Data that are integers (whole numbers)\n",
    "# float64: Data that is continuous (decimals) \n",
    "print(num_col) # Taking a quick look at the columns\n",
    "num_col.describe() # Describe shows the mean, standard deviation, min, max, and quartiles for the numerical columns"
   ]
  },
  {
   "cell_type": "markdown",
   "id": "0e590f8f-1179-4c1a-8c13-31d6a5e5fd5b",
   "metadata": {},
   "source": [
    "The int64 columns are limited to the year columns and the location ID column. The rest of the numerical columns are float64. It is evident that there are many NaN values in the numeric columns. \n",
    "Describe shows that the response, response ID, and all the stratification variables have no entries. "
   ]
  },
  {
   "cell_type": "code",
   "execution_count": 174,
   "id": "65652edf",
   "metadata": {},
   "outputs": [
    {
     "data": {
      "text/plain": [
       "YearStart                      int64\n",
       "YearEnd                        int64\n",
       "LocationAbbr                  object\n",
       "LocationDesc                  object\n",
       "DataSource                    object\n",
       "Topic                         object\n",
       "Question                      object\n",
       "Response                     float64\n",
       "DataValueUnit                 object\n",
       "DataValueType                 object\n",
       "DataValue                    float64\n",
       "DataValueAlt                 float64\n",
       "DataValueFootnoteSymbol       object\n",
       "DataValueFootnote             object\n",
       "LowConfidenceLimit           float64\n",
       "HighConfidenceLimit          float64\n",
       "StratificationCategory1       object\n",
       "Stratification1               object\n",
       "StratificationCategory2      float64\n",
       "Stratification2              float64\n",
       "StratificationCategory3      float64\n",
       "Stratification3              float64\n",
       "Geolocation                   object\n",
       "LocationID                     int64\n",
       "TopicID                       object\n",
       "QuestionID                    object\n",
       "ResponseID                   float64\n",
       "DataValueTypeID               object\n",
       "StratificationCategoryID1     object\n",
       "StratificationID1             object\n",
       "StratificationCategoryID2    float64\n",
       "StratificationID2            float64\n",
       "StratificationCategoryID3    float64\n",
       "StratificationID3            float64\n",
       "dtype: object"
      ]
     },
     "execution_count": 174,
     "metadata": {},
     "output_type": "execute_result"
    }
   ],
   "source": [
    "# Look more closely at the data types\n",
    "disease.dtypes #This shows the data type for each individual column."
   ]
  },
  {
   "cell_type": "code",
   "execution_count": 176,
   "id": "987f5f28-923c-4687-96d8-27867ea6a27b",
   "metadata": {},
   "outputs": [
    {
     "data": {
      "text/plain": [
       "object     17\n",
       "float64    14\n",
       "int64       3\n",
       "Name: count, dtype: int64"
      ]
     },
     "execution_count": 176,
     "metadata": {},
     "output_type": "execute_result"
    }
   ],
   "source": [
    "disease.dtypes.value_counts() #This shows how many of each data type is present."
   ]
  },
  {
   "cell_type": "markdown",
   "id": "3b636f0e-047c-4284-a24e-49826bfa5a41",
   "metadata": {},
   "source": [
    "The majority of the data are objects (17). Object a broad term in python and can be a catch all for data types that do not fit in to the other types."
   ]
  },
  {
   "cell_type": "code",
   "execution_count": 189,
   "id": "c5a7a8fb-233e-461c-8c4b-c0a4509da2fd",
   "metadata": {},
   "outputs": [
    {
     "name": "stdout",
     "output_type": "stream",
     "text": [
      "       LocationAbbr    LocationDesc DataSource  \\\n",
      "0                AR        Arkansas      BRFSS   \n",
      "1                ID           Idaho      BRFSS   \n",
      "2                IN         Indiana      YRBSS   \n",
      "3                IA            Iowa       NVSS   \n",
      "4                IA            Iowa      BRFSS   \n",
      "...             ...             ...        ...   \n",
      "309210           VI  Virgin Islands      BRFSS   \n",
      "309211           WV   West Virginia      BRFSS   \n",
      "309212           WI       Wisconsin      BRFSS   \n",
      "309213           VT         Vermont      BRFSS   \n",
      "309214           WA      Washington      BRFSS   \n",
      "\n",
      "                                        Topic  \\\n",
      "0                                    Diabetes   \n",
      "1                                    Diabetes   \n",
      "2                                       Sleep   \n",
      "3                                      Asthma   \n",
      "4                                      Asthma   \n",
      "...                                       ...   \n",
      "309210                                Tobacco   \n",
      "309211  Chronic Obstructive Pulmonary Disease   \n",
      "309212                           Immunization   \n",
      "309213          Social Determinants of Health   \n",
      "309214                                Alcohol   \n",
      "\n",
      "                                                 Question DataValueUnit  \\\n",
      "0                                   Diabetes among adults             %   \n",
      "1                                   Diabetes among adults             %   \n",
      "2         Short sleep duration among high school students             %   \n",
      "3       Asthma mortality among all people, underlying ...        Number   \n",
      "4                             Current asthma among adults             %   \n",
      "...                                                   ...           ...   \n",
      "309210  Quit attempts in the past year among adult cur...             %   \n",
      "309211  Chronic obstructive pulmonary disease among ad...             %   \n",
      "309212  Pneumococcal vaccination among adults aged 65 ...             %   \n",
      "309213  Lack of health insurance among adults aged 18-...             %   \n",
      "309214             Binge drinking prevalence among adults             %   \n",
      "\n",
      "                  DataValueType DataValueFootnoteSymbol  \\\n",
      "0              Crude Prevalence                     NaN   \n",
      "1              Crude Prevalence                     NaN   \n",
      "2              Crude Prevalence                       *   \n",
      "3                        Number                     NaN   \n",
      "4              Crude Prevalence                     NaN   \n",
      "...                         ...                     ...   \n",
      "309210  Age-adjusted Prevalence                       #   \n",
      "309211         Crude Prevalence                     NaN   \n",
      "309212         Crude Prevalence                     NaN   \n",
      "309213         Crude Prevalence                    ****   \n",
      "309214  Age-adjusted Prevalence                     NaN   \n",
      "\n",
      "                                        DataValueFootnote  \\\n",
      "0                                                     NaN   \n",
      "1                                                     NaN   \n",
      "2                                       No data available   \n",
      "3                                                     NaN   \n",
      "4                                                     NaN   \n",
      "...                                                   ...   \n",
      "309210  No data available for this indicator because t...   \n",
      "309211                                                NaN   \n",
      "309212                                                NaN   \n",
      "309213  Data suppressed; denominator < 50 or relative ...   \n",
      "309214                                                NaN   \n",
      "\n",
      "       StratificationCategory1  \\\n",
      "0                          Sex   \n",
      "1                          Sex   \n",
      "2                        Grade   \n",
      "3                      Overall   \n",
      "4                          Age   \n",
      "...                        ...   \n",
      "309210          Race/Ethnicity   \n",
      "309211                 Overall   \n",
      "309212          Race/Ethnicity   \n",
      "309213          Race/Ethnicity   \n",
      "309214                     Sex   \n",
      "\n",
      "                                       Stratification1  \\\n",
      "0                                                 Male   \n",
      "1                                                 Male   \n",
      "2                                             Grade 12   \n",
      "3                                              Overall   \n",
      "4                                            Age 18-44   \n",
      "...                                                ...   \n",
      "309210  American Indian or Alaska Native, non-Hispanic   \n",
      "309211                                         Overall   \n",
      "309212                             Black, non-Hispanic   \n",
      "309213      Hawaiian or Pacific Islander, non-Hispanic   \n",
      "309214                                            Male   \n",
      "\n",
      "                                          Geolocation TopicID QuestionID  \\\n",
      "0        POINT (-92.27449074299966 34.74865012400045)     DIA      DIA01   \n",
      "1       POINT (-114.3637300419997 43.682630005000476)     DIA      DIA01   \n",
      "2       POINT (-86.14996019399968 39.766910452000445)    SLEP      SLP02   \n",
      "3        POINT (-93.81649055599968 42.46940091300047)     AST      AST01   \n",
      "4        POINT (-93.81649055599968 42.46940091300047)     AST      AST02   \n",
      "...                                               ...     ...        ...   \n",
      "309210                   POINT (-64.896335 18.335765)     TOB      TOB06   \n",
      "309211   POINT (-80.71264013499967 38.66551020200046)    COPD     COPD01   \n",
      "309212   POINT (-89.81637074199966 44.39319117400049)     IMM      IMM04   \n",
      "309213   POINT (-72.51764079099962 43.62538123900049)    SDOH      SDH09   \n",
      "309214  POINT (-120.47001078999972 47.52227862900048)     ALC      ALC06   \n",
      "\n",
      "       DataValueTypeID StratificationCategoryID1 StratificationID1  \n",
      "0              CRDPREV                       SEX              SEXM  \n",
      "1              CRDPREV                       SEX              SEXM  \n",
      "2              CRDPREV                     GRADE             GRD12  \n",
      "3                 NMBR                   OVERALL               OVR  \n",
      "4              CRDPREV                       AGE           AGE1844  \n",
      "...                ...                       ...               ...  \n",
      "309210      AGEADJPREV                      RACE              AIAN  \n",
      "309211         CRDPREV                   OVERALL               OVR  \n",
      "309212         CRDPREV                      RACE               BLK  \n",
      "309213         CRDPREV                      RACE              HAPI  \n",
      "309214      AGEADJPREV                       SEX              SEXM  \n",
      "\n",
      "[309215 rows x 17 columns]\n"
     ]
    },
    {
     "data": {
      "text/plain": [
       "Index(['LocationAbbr', 'LocationDesc', 'DataSource', 'Topic', 'Question',\n",
       "       'DataValueUnit', 'DataValueType', 'DataValueFootnoteSymbol',\n",
       "       'DataValueFootnote', 'StratificationCategory1', 'Stratification1',\n",
       "       'Geolocation', 'TopicID', 'QuestionID', 'DataValueTypeID',\n",
       "       'StratificationCategoryID1', 'StratificationID1'],\n",
       "      dtype='object')"
      ]
     },
     "execution_count": 189,
     "metadata": {},
     "output_type": "execute_result"
    }
   ],
   "source": [
    "obj_col = disease.select_dtypes(include=[\"object\"]) # This groups and saves the object data type columns.\n",
    "print(obj_col) #Taking a quick look at the columns\n",
    "obj_col.columns #Prints out the column names of the object data type"
   ]
  },
  {
   "cell_type": "markdown",
   "id": "2e764dfc-dea8-473f-b101-31f6e97282f8",
   "metadata": {},
   "source": [
    "The data in these columns are mostly strings. There are also mixed data type entries, symbols, and NaN vlaues. All of these columns are categorical data."
   ]
  },
  {
   "cell_type": "code",
   "execution_count": 223,
   "id": "e554c1a0-9002-4b0a-98fd-02e52156ca38",
   "metadata": {},
   "outputs": [
    {
     "data": {
      "text/plain": [
       "['Alcohol',\n",
       " 'Arthritis',\n",
       " 'Asthma',\n",
       " 'Cancer',\n",
       " 'Cardiovascular Disease',\n",
       " 'Chronic Kidney Disease',\n",
       " 'Chronic Obstructive Pulmonary Disease',\n",
       " 'Cognitive Health and Caregiving',\n",
       " 'Diabetes',\n",
       " 'Disability',\n",
       " 'Health Status',\n",
       " 'Immunization',\n",
       " 'Maternal Health',\n",
       " 'Mental Health',\n",
       " 'Nutrition, Physical Activity, and Weight Status',\n",
       " 'Oral Health',\n",
       " 'Sleep',\n",
       " 'Social Determinants of Health',\n",
       " 'Tobacco']"
      ]
     },
     "execution_count": 223,
     "metadata": {},
     "output_type": "execute_result"
    }
   ],
   "source": [
    "# Explore the values of a category column:\n",
    "    ## Topic\n",
    "sorted(disease[\"Topic\"].unique()) # This prints out all the unique values in the Topic column and sorts them alphabetically "
   ]
  },
  {
   "cell_type": "code",
   "execution_count": 243,
   "id": "c6d499e4-b022-4c68-94b9-3bab74f937a7",
   "metadata": {},
   "outputs": [
    {
     "name": "stdout",
     "output_type": "stream",
     "text": [
      "        YearStart  YearEnd LocationAbbr    LocationDesc DataSource    Topic  \\\n",
      "10           2019     2019           MD        Maryland      YRBSS  Alcohol   \n",
      "19           2019     2019           NV          Nevada      YRBSS  Alcohol   \n",
      "26           2019     2019           NY        New York      BRFSS  Alcohol   \n",
      "38           2019     2019           PR     Puerto Rico      YRBSS  Alcohol   \n",
      "46           2019     2019           VT         Vermont      BRFSS  Alcohol   \n",
      "...           ...      ...          ...             ...        ...      ...   \n",
      "309166       2022     2022           VI  Virgin Islands      BRFSS  Alcohol   \n",
      "309177       2022     2022           WV   West Virginia      BRFSS  Alcohol   \n",
      "309196       2022     2022           VA        Virginia      BRFSS  Alcohol   \n",
      "309200       2022     2022           WV   West Virginia      BRFSS  Alcohol   \n",
      "309214       2022     2022           WA      Washington      BRFSS  Alcohol   \n",
      "\n",
      "                                                 Question  Response  \\\n",
      "10                 Alcohol use among high school students       NaN   \n",
      "19                 Alcohol use among high school students       NaN   \n",
      "26                 Binge drinking prevalence among adults       NaN   \n",
      "38                 Alcohol use among high school students       NaN   \n",
      "46      Binge drinking intensity among adults who bing...       NaN   \n",
      "...                                                   ...       ...   \n",
      "309166  Binge drinking frequency among adults who bing...       NaN   \n",
      "309177  Binge drinking intensity among adults who bing...       NaN   \n",
      "309196  Binge drinking frequency among adults who bing...       NaN   \n",
      "309200             Binge drinking prevalence among adults       NaN   \n",
      "309214             Binge drinking prevalence among adults       NaN   \n",
      "\n",
      "       DataValueUnit            DataValueType  ...  TopicID  QuestionID  \\\n",
      "10                 %         Crude Prevalence  ...      ALC       ALC01   \n",
      "19                 %         Crude Prevalence  ...      ALC       ALC01   \n",
      "26                 %         Crude Prevalence  ...      ALC       ALC06   \n",
      "38                 %         Crude Prevalence  ...      ALC       ALC01   \n",
      "46            Number    Crude 75th percentile  ...      ALC       ALC05   \n",
      "...              ...                      ...  ...      ...         ...   \n",
      "309166        Number             Crude Median  ...      ALC       ALC04   \n",
      "309177        Number             Crude Median  ...      ALC       ALC05   \n",
      "309196        Number    Crude 75th percentile  ...      ALC       ALC04   \n",
      "309200             %  Age-adjusted Prevalence  ...      ALC       ALC06   \n",
      "309214             %  Age-adjusted Prevalence  ...      ALC       ALC06   \n",
      "\n",
      "       ResponseID DataValueTypeID  StratificationCategoryID1  \\\n",
      "10            NaN         CRDPREV                        SEX   \n",
      "19            NaN         CRDPREV                      GRADE   \n",
      "26            NaN         CRDPREV                        SEX   \n",
      "38            NaN         CRDPREV                        SEX   \n",
      "46            NaN         CRD75TH                       RACE   \n",
      "...           ...             ...                        ...   \n",
      "309166        NaN         CRDMEDN                       RACE   \n",
      "309177        NaN         CRDMEDN                       RACE   \n",
      "309196        NaN         CRD75TH                        SEX   \n",
      "309200        NaN      AGEADJPREV                       RACE   \n",
      "309214        NaN      AGEADJPREV                        SEX   \n",
      "\n",
      "        StratificationID1 StratificationCategoryID2 StratificationID2  \\\n",
      "10                   SEXM                       NaN               NaN   \n",
      "19                  GRD11                       NaN               NaN   \n",
      "26                   SEXM                       NaN               NaN   \n",
      "38                   SEXM                       NaN               NaN   \n",
      "46                    WHT                       NaN               NaN   \n",
      "...                   ...                       ...               ...   \n",
      "309166                BLK                       NaN               NaN   \n",
      "309177                MRC                       NaN               NaN   \n",
      "309196               SEXM                       NaN               NaN   \n",
      "309200                HIS                       NaN               NaN   \n",
      "309214               SEXM                       NaN               NaN   \n",
      "\n",
      "        StratificationCategoryID3  StratificationID3  \n",
      "10                            NaN                NaN  \n",
      "19                            NaN                NaN  \n",
      "26                            NaN                NaN  \n",
      "38                            NaN                NaN  \n",
      "46                            NaN                NaN  \n",
      "...                           ...                ...  \n",
      "309166                        NaN                NaN  \n",
      "309177                        NaN                NaN  \n",
      "309196                        NaN                NaN  \n",
      "309200                        NaN                NaN  \n",
      "309214                        NaN                NaN  \n",
      "\n",
      "[25321 rows x 34 columns]\n"
     ]
    }
   ],
   "source": [
    "alcohol = disease[disease[\"Topic\"] == \"Alcohol\"] # This creates a data frame with only entries that have the topic alcohol\n",
    "print(alcohol)"
   ]
  },
  {
   "cell_type": "markdown",
   "id": "0d7c4563-25e2-4e0f-af96-44de96e0d667",
   "metadata": {},
   "source": [
    "Knowing I would like to make a visualise with the topic alcohol, I am going look at the variables more closely and filter them."
   ]
  },
  {
   "cell_type": "code",
   "execution_count": 247,
   "id": "3a54e20d-8da4-415d-87a2-5bb6bef9749e",
   "metadata": {},
   "outputs": [
    {
     "data": {
      "text/plain": [
       "['Alcohol use among high school students',\n",
       " 'Binge drinking frequency among adults who binge drink',\n",
       " 'Binge drinking intensity among adults who binge drink',\n",
       " 'Binge drinking prevalence among adults',\n",
       " 'Binge drinking prevalence among high school students',\n",
       " 'Chronic liver disease mortality among all people, underlying cause',\n",
       " 'Per capita alcohol consumption among people aged 14 years and older']"
      ]
     },
     "execution_count": 247,
     "metadata": {},
     "output_type": "execute_result"
    }
   ],
   "source": [
    "sorted(alcohol[\"Question\"].unique()) #This prints out all the unique Questions from the alcohol dataframe."
   ]
  },
  {
   "cell_type": "code",
   "execution_count": 251,
   "id": "5fe843fe-573a-40b4-aea9-bb54e2f6f06d",
   "metadata": {},
   "outputs": [
    {
     "data": {
      "text/plain": [
       "['Age-adjusted Prevalence',\n",
       " 'Age-adjusted Rate',\n",
       " 'Crude 75th percentile',\n",
       " 'Crude Median',\n",
       " 'Crude Prevalence',\n",
       " 'Crude Rate',\n",
       " 'Number',\n",
       " 'Per capita alcohol consumption gallons']"
      ]
     },
     "execution_count": 251,
     "metadata": {},
     "output_type": "execute_result"
    }
   ],
   "source": [
    "sorted(alcohol[\"DataValueType\"].unique()) #This prints out all the unique Data value types from the alcohol dataframe."
   ]
  },
  {
   "cell_type": "code",
   "execution_count": 256,
   "id": "5a70e00a-aa03-429e-909b-e2bd92cb3cd6",
   "metadata": {},
   "outputs": [
    {
     "data": {
      "text/plain": [
       "['Age', 'Grade', 'Overall', 'Race/Ethnicity', 'Sex']"
      ]
     },
     "execution_count": 256,
     "metadata": {},
     "output_type": "execute_result"
    }
   ],
   "source": [
    "sorted(alcohol[\"StratificationCategory1\"].unique()) #This prints out all the unique Stratification categories from the alcohol dataframe."
   ]
  },
  {
   "cell_type": "code",
   "execution_count": 263,
   "id": "968a9b02-be0f-4238-b3ef-de664c184111",
   "metadata": {},
   "outputs": [
    {
     "name": "stdout",
     "output_type": "stream",
     "text": [
      "        YearStart  YearEnd LocationAbbr    LocationDesc DataSource    Topic  \\\n",
      "14596        2019     2019           CA      California      BRFSS  Alcohol   \n",
      "14833        2019     2019           AR        Arkansas      BRFSS  Alcohol   \n",
      "16800        2019     2019           AZ         Arizona      BRFSS  Alcohol   \n",
      "18481        2019     2019           AK          Alaska      BRFSS  Alcohol   \n",
      "19016        2019     2019           AL         Alabama      BRFSS  Alcohol   \n",
      "...           ...      ...          ...             ...        ...      ...   \n",
      "308236       2022     2022           WV   West Virginia      BRFSS  Alcohol   \n",
      "308434       2022     2022           WI       Wisconsin      BRFSS  Alcohol   \n",
      "308659       2022     2022           WA      Washington      BRFSS  Alcohol   \n",
      "308857       2022     2022           VI  Virgin Islands      BRFSS  Alcohol   \n",
      "309113       2022     2022           WY         Wyoming      BRFSS  Alcohol   \n",
      "\n",
      "                                      Question  Response DataValueUnit  \\\n",
      "14596   Binge drinking prevalence among adults       NaN             %   \n",
      "14833   Binge drinking prevalence among adults       NaN             %   \n",
      "16800   Binge drinking prevalence among adults       NaN             %   \n",
      "18481   Binge drinking prevalence among adults       NaN             %   \n",
      "19016   Binge drinking prevalence among adults       NaN             %   \n",
      "...                                        ...       ...           ...   \n",
      "308236  Binge drinking prevalence among adults       NaN             %   \n",
      "308434  Binge drinking prevalence among adults       NaN             %   \n",
      "308659  Binge drinking prevalence among adults       NaN             %   \n",
      "308857  Binge drinking prevalence among adults       NaN             %   \n",
      "309113  Binge drinking prevalence among adults       NaN             %   \n",
      "\n",
      "           DataValueType  ...  TopicID  QuestionID ResponseID DataValueTypeID  \\\n",
      "14596   Crude Prevalence  ...      ALC       ALC06        NaN         CRDPREV   \n",
      "14833   Crude Prevalence  ...      ALC       ALC06        NaN         CRDPREV   \n",
      "16800   Crude Prevalence  ...      ALC       ALC06        NaN         CRDPREV   \n",
      "18481   Crude Prevalence  ...      ALC       ALC06        NaN         CRDPREV   \n",
      "19016   Crude Prevalence  ...      ALC       ALC06        NaN         CRDPREV   \n",
      "...                  ...  ...      ...         ...        ...             ...   \n",
      "308236  Crude Prevalence  ...      ALC       ALC06        NaN         CRDPREV   \n",
      "308434  Crude Prevalence  ...      ALC       ALC06        NaN         CRDPREV   \n",
      "308659  Crude Prevalence  ...      ALC       ALC06        NaN         CRDPREV   \n",
      "308857  Crude Prevalence  ...      ALC       ALC06        NaN         CRDPREV   \n",
      "309113  Crude Prevalence  ...      ALC       ALC06        NaN         CRDPREV   \n",
      "\n",
      "        StratificationCategoryID1  StratificationID1  \\\n",
      "14596                         AGE             AGE65P   \n",
      "14833                         AGE            AGE1844   \n",
      "16800                         AGE            AGE1844   \n",
      "18481                         AGE             AGE65P   \n",
      "19016                         AGE             AGE65P   \n",
      "...                           ...                ...   \n",
      "308236                        AGE             AGE65P   \n",
      "308434                        AGE             AGE65P   \n",
      "308659                        AGE            AGE1844   \n",
      "308857                        AGE            AGE1844   \n",
      "309113                        AGE             AGE65P   \n",
      "\n",
      "       StratificationCategoryID2 StratificationID2  StratificationCategoryID3  \\\n",
      "14596                        NaN               NaN                        NaN   \n",
      "14833                        NaN               NaN                        NaN   \n",
      "16800                        NaN               NaN                        NaN   \n",
      "18481                        NaN               NaN                        NaN   \n",
      "19016                        NaN               NaN                        NaN   \n",
      "...                          ...               ...                        ...   \n",
      "308236                       NaN               NaN                        NaN   \n",
      "308434                       NaN               NaN                        NaN   \n",
      "308659                       NaN               NaN                        NaN   \n",
      "308857                       NaN               NaN                        NaN   \n",
      "309113                       NaN               NaN                        NaN   \n",
      "\n",
      "        StratificationID3  \n",
      "14596                 NaN  \n",
      "14833                 NaN  \n",
      "16800                 NaN  \n",
      "18481                 NaN  \n",
      "19016                 NaN  \n",
      "...                   ...  \n",
      "308236                NaN  \n",
      "308434                NaN  \n",
      "308659                NaN  \n",
      "308857                NaN  \n",
      "309113                NaN  \n",
      "\n",
      "[660 rows x 34 columns]\n"
     ]
    }
   ],
   "source": [
    "alcohol_filtered = alcohol[(alcohol[\"DataValueType\"].isin([\"Crude Prevalence\"])) &\n",
    "                           (alcohol[\"StratificationCategory1\"].isin([\"Age\"]))]  #This filters for only entries were the data type is crude prevalence and the stratification category is age\n",
    "print(alcohol_filtered)"
   ]
  },
  {
   "cell_type": "code",
   "execution_count": 265,
   "id": "99a82fc7-f48a-4ccd-ab83-a61d09b4d4cb",
   "metadata": {},
   "outputs": [
    {
     "data": {
      "text/plain": [
       "['Binge drinking prevalence among adults']"
      ]
     },
     "execution_count": 265,
     "metadata": {},
     "output_type": "execute_result"
    }
   ],
   "source": [
    "sorted(alcohol_filtered[\"Question\"].unique()) #This shows the unique questions in the new filtered dataframe."
   ]
  },
  {
   "cell_type": "code",
   "execution_count": 269,
   "id": "38278c88-064a-4aff-9182-b543cad8fd11",
   "metadata": {},
   "outputs": [
    {
     "data": {
      "text/plain": [
       "['Age 18-44', 'Age 45-64', 'Age >=65']"
      ]
     },
     "execution_count": 269,
     "metadata": {},
     "output_type": "execute_result"
    }
   ],
   "source": [
    "sorted(alcohol_filtered[\"Stratification1\"].unique()) #This shows the unique age categories in the filtered dataframe."
   ]
  },
  {
   "cell_type": "markdown",
   "id": "b913643b",
   "metadata": {},
   "source": [
    "Create one graph to quickly visualize your data using matplotlib. <br>\n",
    "Matplotlib color guide: https://i.sstatic.net/lFZum.png <br><br>\n",
    "It's okay if it is not visualy appealing or contains outliers, because we have not cleaned our data yet! Did you get any errors? If so, what were they? Would the errors have been avoided if you had cleaned the data first?<br>\n",
    "Data cleaning and transforming is very important when storing your data in a warehouse...ready for Assignment #2?"
   ]
  },
  {
   "cell_type": "code",
   "execution_count": 322,
   "id": "ac3beddb-4a78-4ef1-a3e1-54c715753795",
   "metadata": {},
   "outputs": [
    {
     "name": "stdout",
     "output_type": "stream",
     "text": [
      "Stratification1\n",
      "Age 18-44    [20.7, 20.9, 21.0, 18.3, 24.0, 26.9, 25.8, 24....\n",
      "Age 45-64    [10.6, 13.6, 12.0, 13.5, 11.0, 15.9, 12.6, 16....\n",
      "Age >=65     [6.8, 5.6, 3.8, 3.7, 5.8, 6.6, 3.8, 4.7, 6.9, ...\n",
      "Name: DataValue, dtype: object\n"
     ]
    },
    {
     "data": {
      "image/png": "[encoded data removed]",
      "text/plain": [
       "<Figure size 640x480 with 1 Axes>"
      ]
     },
     "metadata": {},
     "output_type": "display_data"
    }
   ],
   "source": [
    "alcohol_filtered_clean = alcohol_filtered.dropna(subset=[\"DataValue\"]) #This removed the NAs in the data value column and saved to changes to a new dataframe.\n",
    "alcohol_age = alcohol_filtered_clean.groupby(\"Stratification1\")[\"DataValue\"].apply(list) #This grouped the age ranges to the crude prevalences as a list.\n",
    "print(alcohol_age)\n",
    "plt.boxplot(alcohol_age) #Creates box plot of Prevalence by age\n",
    "plt.title(\"Binge Drinking Prevalence Among Adults\") #Creates a title\n",
    "plt.xlabel(\"Ages\") #Creates a x-axis label\n",
    "plt.ylabel(\"Crude Prevalence (%)\") #Creates a y-axis label\n",
    "plt.xticks(range(1, len(alcohol_age) + 1), alcohol_age.index) #Labels the boxplot by their age range\n",
    "plt.show()"
   ]
  },
  {
   "cell_type": "markdown",
   "id": "251688bc-3597-4eec-b1e1-c1e24e090b93",
   "metadata": {},
   "source": [
    "## Dataset #2"
   ]
  },
  {
   "cell_type": "markdown",
   "id": "17ba6fbf-6c3e-469e-bf3a-49fb9d16fc84",
   "metadata": {},
   "source": [
    "<b>Dataset name: </b> Nutrition, Physical Activity, and Obesity - Behavioral Risk Factor Surveillance System<br>\n",
    "<b>Company/Government Organization: </b> Centers for Diease Control and Prevention (CDC)<br>\n",
    "Download link: https://data.cdc.gov/d/hn4x-zwk7  <br>\n",
    "Date of Access: Feburary 11, 2025"
   ]
  },
  {
   "cell_type": "markdown",
   "id": "f94118dc-28e7-4891-8793-202705d50d6f",
   "metadata": {},
   "source": [
    "#### Load in the Necessary Libraries:\n",
    "These are the same as previously used for dataset #1"
   ]
  },
  {
   "cell_type": "code",
   "execution_count": 3,
   "id": "c2fc5f93-986a-48bd-9184-e73627c06628",
   "metadata": {},
   "outputs": [],
   "source": [
    "import pandas as pd # Reads, writes, shapes, manipulates data\n",
    "import numpy as np # Basic stats and numerical operations\n",
    "import matplotlib.pyplot as plt # Creating basic graphs"
   ]
  },
  {
   "cell_type": "markdown",
   "id": "0a849b37-0565-407c-ad06-6127d2e63b47",
   "metadata": {},
   "source": [
    "#### Load in the Dataset:"
   ]
  },
  {
   "cell_type": "code",
   "execution_count": 4,
   "id": "4e89f23c-e3a6-4c5d-96ff-0ea1da92a8cf",
   "metadata": {},
   "outputs": [],
   "source": [
    "obesity = pd.read_csv(\"Nutrition__Physical_Activity__and_Obesity_-_Behavioral_Risk_Factor_Surveillance_System_20250211.csv\",delimiter=\",\")"
   ]
  },
  {
   "cell_type": "markdown",
   "id": "c77c5f6d-5677-4bab-848c-8b27aa2319e1",
   "metadata": {},
   "source": [
    "#### Exploring the Data:"
   ]
  },
  {
   "cell_type": "code",
   "execution_count": 5,
   "id": "38f2eb9e-1bcf-4183-bbd3-556ebeaf0f1c",
   "metadata": {},
   "outputs": [
    {
     "name": "stdout",
     "output_type": "stream",
     "text": [
      "<class 'pandas.core.frame.DataFrame'>\n",
      "RangeIndex: 104272 entries, 0 to 104271\n",
      "Data columns (total 33 columns):\n",
      " #   Column                      Non-Null Count   Dtype  \n",
      "---  ------                      --------------   -----  \n",
      " 0   YearStart                   104272 non-null  int64  \n",
      " 1   YearEnd                     104272 non-null  int64  \n",
      " 2   LocationAbbr                104272 non-null  object \n",
      " 3   LocationDesc                104272 non-null  object \n",
      " 4   Datasource                  104272 non-null  object \n",
      " 5   Class                       104272 non-null  object \n",
      " 6   Topic                       104272 non-null  object \n",
      " 7   Question                    104272 non-null  object \n",
      " 8   Data_Value_Unit             88872 non-null   float64\n",
      " 9   Data_Value_Type             104272 non-null  object \n",
      " 10  Data_Value                  93505 non-null   float64\n",
      " 11  Data_Value_Alt              93505 non-null   float64\n",
      " 12  Data_Value_Footnote_Symbol  10767 non-null   object \n",
      " 13  Data_Value_Footnote         10767 non-null   object \n",
      " 14  Low_Confidence_Limit        93505 non-null   float64\n",
      " 15  High_Confidence_Limit       93505 non-null   float64\n",
      " 16  Sample_Size                 93505 non-null   float64\n",
      " 17  Total                       3724 non-null    object \n",
      " 18  Age(years)                  22344 non-null   object \n",
      " 19  Education                   14896 non-null   object \n",
      " 20  Sex                         7448 non-null    object \n",
      " 21  Income                      26068 non-null   object \n",
      " 22  Race/Ethnicity              29792 non-null   object \n",
      " 23  GeoLocation                 102340 non-null  object \n",
      " 24  ClassID                     104272 non-null  object \n",
      " 25  TopicID                     104272 non-null  object \n",
      " 26  QuestionID                  104272 non-null  object \n",
      " 27  DataValueTypeID             104272 non-null  object \n",
      " 28  LocationID                  104272 non-null  int64  \n",
      " 29  StratificationCategory1     104272 non-null  object \n",
      " 30  Stratification1             104272 non-null  object \n",
      " 31  StratificationCategoryId1   104272 non-null  object \n",
      " 32  StratificationID1           104272 non-null  object \n",
      "dtypes: float64(6), int64(3), object(24)\n",
      "memory usage: 26.3+ MB\n"
     ]
    },
    {
     "data": {
      "text/plain": [
       "(104272, 33)"
      ]
     },
     "execution_count": 5,
     "metadata": {},
     "output_type": "execute_result"
    }
   ],
   "source": [
    "obesity.info() #Shows the number of rows, columns, the variable names, number of non-null entires per column and data type per column\n",
    "obesity.shape #Prints out the number of (rows, columns)"
   ]
  },
  {
   "cell_type": "markdown",
   "id": "fd99cb64-6c2e-40b7-a566-b4ce054d5157",
   "metadata": {},
   "source": [
    "There are 33 columns/variables and 104,272 rows. The majority of the variables are objects at 24. "
   ]
  },
  {
   "cell_type": "code",
   "execution_count": 6,
   "id": "66e63a6f-6bbe-47f1-82bf-78d7a39297e0",
   "metadata": {},
   "outputs": [
    {
     "name": "stdout",
     "output_type": "stream",
     "text": [
      "        YearStart  YearEnd  Data_Value_Unit  Data_Value  Data_Value_Alt  \\\n",
      "0            2011     2011           2011.0        23.3            23.3   \n",
      "1            2011     2011           2011.0        35.5            35.5   \n",
      "2            2011     2011           2011.0        21.7            21.7   \n",
      "3            2011     2011           2011.0        29.5            29.5   \n",
      "4            2011     2011           2011.0        33.5            33.5   \n",
      "...           ...      ...              ...         ...             ...   \n",
      "104267       2023     2023              NaN        31.7            31.7   \n",
      "104268       2023     2023              NaN        32.4            32.4   \n",
      "104269       2023     2023              NaN        22.5            22.5   \n",
      "104270       2023     2023              NaN        35.6            35.6   \n",
      "104271       2023     2023              NaN        34.7            34.7   \n",
      "\n",
      "        Low_Confidence_Limit  High_Confidence_Limit   Sample_Size  LocationID  \n",
      "0                       16.1                    32.4        128.0           2  \n",
      "1                       22.7                    50.9         63.0           2  \n",
      "2                       19.1                    24.6       1702.0           2  \n",
      "3                       24.5                    35.0        562.0           2  \n",
      "4                       26.2                    41.7        377.0           2  \n",
      "...                      ...                     ...          ...         ...  \n",
      "104267                  28.5                    35.2       1118.0          56  \n",
      "104268                  30.1                    34.7       2231.0          56  \n",
      "104269                  20.0                    25.2       1677.0          56  \n",
      "104270                  27.5                    44.8        154.0          56  \n",
      "104271                  30.7                    39.0        707.0          56  \n",
      "\n",
      "[104272 rows x 9 columns]\n",
      "The names of the numeric columns are: ['YearStart', 'YearEnd', 'Data_Value_Unit', 'Data_Value', 'Data_Value_Alt', 'Low_Confidence_Limit', 'High_Confidence_Limit ', 'Sample_Size', 'LocationID']\n"
     ]
    }
   ],
   "source": [
    "numeric_col = obesity.select_dtypes(include=[\"int64\",\"float64\"]) #Saves all the numerical columns into a data frame\n",
    "print(numeric_col) #Taking a quick look at the columns\n",
    "numeric_names = list(numeric_col.columns) #This saves the names of the numerical columns as a list\n",
    "print(f\"The names of the numeric columns are: {numeric_names}\")"
   ]
  },
  {
   "cell_type": "markdown",
   "id": "62ec7a57-ccd8-4715-85ea-efba19e287ee",
   "metadata": {},
   "source": [
    "A quick glance at the numeric columns show that the Data Value unit column actually contains the year."
   ]
  },
  {
   "cell_type": "code",
   "execution_count": 10,
   "id": "707d8d99-8a89-481b-a799-00a6948e2242",
   "metadata": {},
   "outputs": [
    {
     "data": {
      "text/plain": [
       "YearStart                     0\n",
       "YearEnd                       0\n",
       "Data_Value_Unit           15400\n",
       "Data_Value                10767\n",
       "Data_Value_Alt            10767\n",
       "Low_Confidence_Limit      10767\n",
       "High_Confidence_Limit     10767\n",
       "Sample_Size               10767\n",
       "LocationID                    0\n",
       "dtype: int64"
      ]
     },
     "execution_count": 10,
     "metadata": {},
     "output_type": "execute_result"
    }
   ],
   "source": [
    "numeric_col.isna().sum() #This shows the number of NaN values per column"
   ]
  },
  {
   "cell_type": "code",
   "execution_count": 11,
   "id": "0ed5dae6-f147-427d-8ed6-b6349a3f54c7",
   "metadata": {},
   "outputs": [
    {
     "data": {
      "text/html": [
       "<div>\n",
       "<style scoped>\n",
       "    .dataframe tbody tr th:only-of-type {\n",
       "        vertical-align: middle;\n",
       "    }\n",
       "\n",
       "    .dataframe tbody tr th {\n",
       "        vertical-align: top;\n",
       "    }\n",
       "\n",
       "    .dataframe thead th {\n",
       "        text-align: right;\n",
       "    }\n",
       "</style>\n",
       "<table border=\"1\" class=\"dataframe\">\n",
       "  <thead>\n",
       "    <tr style=\"text-align: right;\">\n",
       "      <th></th>\n",
       "      <th>YearStart</th>\n",
       "      <th>YearEnd</th>\n",
       "      <th>Data_Value_Unit</th>\n",
       "      <th>Data_Value</th>\n",
       "      <th>Data_Value_Alt</th>\n",
       "      <th>Low_Confidence_Limit</th>\n",
       "      <th>High_Confidence_Limit</th>\n",
       "      <th>Sample_Size</th>\n",
       "      <th>LocationID</th>\n",
       "    </tr>\n",
       "  </thead>\n",
       "  <tbody>\n",
       "    <tr>\n",
       "      <th>count</th>\n",
       "      <td>104272.000000</td>\n",
       "      <td>104272.000000</td>\n",
       "      <td>88872.000000</td>\n",
       "      <td>93505.000000</td>\n",
       "      <td>93505.000000</td>\n",
       "      <td>93505.000000</td>\n",
       "      <td>93505.000000</td>\n",
       "      <td>93505.000000</td>\n",
       "      <td>104272.000000</td>\n",
       "    </tr>\n",
       "    <tr>\n",
       "      <th>mean</th>\n",
       "      <td>2017.006176</td>\n",
       "      <td>2017.006176</td>\n",
       "      <td>2016.019534</td>\n",
       "      <td>31.849359</td>\n",
       "      <td>31.849359</td>\n",
       "      <td>27.452834</td>\n",
       "      <td>36.803022</td>\n",
       "      <td>3623.035260</td>\n",
       "      <td>31.053706</td>\n",
       "    </tr>\n",
       "    <tr>\n",
       "      <th>std</th>\n",
       "      <td>3.734882</td>\n",
       "      <td>3.734882</td>\n",
       "      <td>3.120714</td>\n",
       "      <td>10.417933</td>\n",
       "      <td>10.417933</td>\n",
       "      <td>10.204503</td>\n",
       "      <td>11.343284</td>\n",
       "      <td>18561.958269</td>\n",
       "      <td>17.605859</td>\n",
       "    </tr>\n",
       "    <tr>\n",
       "      <th>min</th>\n",
       "      <td>2011.000000</td>\n",
       "      <td>2011.000000</td>\n",
       "      <td>2011.000000</td>\n",
       "      <td>0.900000</td>\n",
       "      <td>0.900000</td>\n",
       "      <td>0.300000</td>\n",
       "      <td>3.000000</td>\n",
       "      <td>50.000000</td>\n",
       "      <td>1.000000</td>\n",
       "    </tr>\n",
       "    <tr>\n",
       "      <th>25%</th>\n",
       "      <td>2014.000000</td>\n",
       "      <td>2014.000000</td>\n",
       "      <td>2013.000000</td>\n",
       "      <td>24.900000</td>\n",
       "      <td>24.900000</td>\n",
       "      <td>20.400000</td>\n",
       "      <td>29.200000</td>\n",
       "      <td>499.000000</td>\n",
       "      <td>17.000000</td>\n",
       "    </tr>\n",
       "    <tr>\n",
       "      <th>50%</th>\n",
       "      <td>2017.000000</td>\n",
       "      <td>2017.000000</td>\n",
       "      <td>2016.000000</td>\n",
       "      <td>31.700000</td>\n",
       "      <td>31.700000</td>\n",
       "      <td>27.300000</td>\n",
       "      <td>36.500000</td>\n",
       "      <td>1085.000000</td>\n",
       "      <td>30.000000</td>\n",
       "    </tr>\n",
       "    <tr>\n",
       "      <th>75%</th>\n",
       "      <td>2020.000000</td>\n",
       "      <td>2020.000000</td>\n",
       "      <td>2019.000000</td>\n",
       "      <td>37.500000</td>\n",
       "      <td>37.500000</td>\n",
       "      <td>33.400000</td>\n",
       "      <td>42.900000</td>\n",
       "      <td>2397.000000</td>\n",
       "      <td>45.000000</td>\n",
       "    </tr>\n",
       "    <tr>\n",
       "      <th>max</th>\n",
       "      <td>2023.000000</td>\n",
       "      <td>2023.000000</td>\n",
       "      <td>2021.000000</td>\n",
       "      <td>85.300000</td>\n",
       "      <td>85.300000</td>\n",
       "      <td>74.700000</td>\n",
       "      <td>92.400000</td>\n",
       "      <td>476876.000000</td>\n",
       "      <td>78.000000</td>\n",
       "    </tr>\n",
       "  </tbody>\n",
       "</table>\n",
       "</div>"
      ],
      "text/plain": [
       "           YearStart        YearEnd  Data_Value_Unit    Data_Value  \\\n",
       "count  104272.000000  104272.000000     88872.000000  93505.000000   \n",
       "mean     2017.006176    2017.006176      2016.019534     31.849359   \n",
       "std         3.734882       3.734882         3.120714     10.417933   \n",
       "min      2011.000000    2011.000000      2011.000000      0.900000   \n",
       "25%      2014.000000    2014.000000      2013.000000     24.900000   \n",
       "50%      2017.000000    2017.000000      2016.000000     31.700000   \n",
       "75%      2020.000000    2020.000000      2019.000000     37.500000   \n",
       "max      2023.000000    2023.000000      2021.000000     85.300000   \n",
       "\n",
       "       Data_Value_Alt  Low_Confidence_Limit  High_Confidence_Limit   \\\n",
       "count    93505.000000          93505.000000            93505.000000   \n",
       "mean        31.849359             27.452834               36.803022   \n",
       "std         10.417933             10.204503               11.343284   \n",
       "min          0.900000              0.300000                3.000000   \n",
       "25%         24.900000             20.400000               29.200000   \n",
       "50%         31.700000             27.300000               36.500000   \n",
       "75%         37.500000             33.400000               42.900000   \n",
       "max         85.300000             74.700000               92.400000   \n",
       "\n",
       "         Sample_Size     LocationID  \n",
       "count   93505.000000  104272.000000  \n",
       "mean     3623.035260      31.053706  \n",
       "std     18561.958269      17.605859  \n",
       "min        50.000000       1.000000  \n",
       "25%       499.000000      17.000000  \n",
       "50%      1085.000000      30.000000  \n",
       "75%      2397.000000      45.000000  \n",
       "max    476876.000000      78.000000  "
      ]
     },
     "execution_count": 11,
     "metadata": {},
     "output_type": "execute_result"
    }
   ],
   "source": [
    "numeric_col.describe() # Describe shows the mean, standard deviation, min, max, and quartiles for the numerical columns"
   ]
  },
  {
   "cell_type": "markdown",
   "id": "b06eef02-96c2-4536-b4d0-8df77fdbaa9b",
   "metadata": {},
   "source": [
    "Five columns having the same amount of NaN values suggests that all the NaN values come from the same 10,767 entries. "
   ]
  },
  {
   "cell_type": "code",
   "execution_count": 14,
   "id": "b9dd07ef-8bd6-4423-92b0-91300c2aebf3",
   "metadata": {},
   "outputs": [
    {
     "name": "stdout",
     "output_type": "stream",
     "text": [
      "       LocationAbbr LocationDesc Datasource                    Class  \\\n",
      "0                AK       Alaska      BRFSS  Obesity / Weight Status   \n",
      "1                AK       Alaska      BRFSS  Obesity / Weight Status   \n",
      "2                AK       Alaska      BRFSS        Physical Activity   \n",
      "3                AK       Alaska      BRFSS  Obesity / Weight Status   \n",
      "4                AK       Alaska      BRFSS  Obesity / Weight Status   \n",
      "...             ...          ...        ...                      ...   \n",
      "104267           WY      Wyoming      BRFSS        Physical Activity   \n",
      "104268           WY      Wyoming      BRFSS        Physical Activity   \n",
      "104269           WY      Wyoming      BRFSS        Physical Activity   \n",
      "104270           WY      Wyoming      BRFSS        Physical Activity   \n",
      "104271           WY      Wyoming      BRFSS        Physical Activity   \n",
      "\n",
      "                               Topic  \\\n",
      "0            Obesity / Weight Status   \n",
      "1            Obesity / Weight Status   \n",
      "2       Physical Activity - Behavior   \n",
      "3            Obesity / Weight Status   \n",
      "4            Obesity / Weight Status   \n",
      "...                              ...   \n",
      "104267  Physical Activity - Behavior   \n",
      "104268  Physical Activity - Behavior   \n",
      "104269  Physical Activity - Behavior   \n",
      "104270  Physical Activity - Behavior   \n",
      "104271  Physical Activity - Behavior   \n",
      "\n",
      "                                                 Question Data_Value_Type  \\\n",
      "0       Percent of adults aged 18 years and older who ...           Value   \n",
      "1       Percent of adults aged 18 years and older who ...           Value   \n",
      "2       Percent of adults who achieve at least 150 min...           Value   \n",
      "3       Percent of adults aged 18 years and older who ...           Value   \n",
      "4       Percent of adults aged 18 years and older who ...           Value   \n",
      "...                                                   ...             ...   \n",
      "104267  Percent of adults who engage in no leisure-tim...           Value   \n",
      "104268  Percent of adults who engage in no leisure-tim...           Value   \n",
      "104269  Percent of adults who engage in no leisure-tim...           Value   \n",
      "104270  Percent of adults who engage in muscle-strengt...           Value   \n",
      "104271  Percent of adults who engage in no leisure-tim...           Value   \n",
      "\n",
      "       Data_Value_Footnote_Symbol Data_Value_Footnote Total  ...  \\\n",
      "0                             NaN                 NaN   NaN  ...   \n",
      "1                             NaN                 NaN   NaN  ...   \n",
      "2                             NaN                 NaN   NaN  ...   \n",
      "3                             NaN                 NaN   NaN  ...   \n",
      "4                             NaN                 NaN   NaN  ...   \n",
      "...                           ...                 ...   ...  ...   \n",
      "104267                        NaN                 NaN   NaN  ...   \n",
      "104268                        NaN                 NaN   NaN  ...   \n",
      "104269                        NaN                 NaN   NaN  ...   \n",
      "104270                        NaN                 NaN   NaN  ...   \n",
      "104271                        NaN                 NaN   NaN  ...   \n",
      "\n",
      "         Race/Ethnicity                               GeoLocation ClassID  \\\n",
      "0       2 or more races         (64.845079957001, -147.722059036)     OWS   \n",
      "1                 Other         (64.845079957001, -147.722059036)     OWS   \n",
      "2                   NaN         (64.845079957001, -147.722059036)      PA   \n",
      "3                   NaN         (64.845079957001, -147.722059036)     OWS   \n",
      "4                   NaN         (64.845079957001, -147.722059036)     OWS   \n",
      "...                 ...                                       ...     ...   \n",
      "104267              NaN  (43.23554134300048, -108.10983035299967)      PA   \n",
      "104268              NaN  (43.23554134300048, -108.10983035299967)      PA   \n",
      "104269              NaN  (43.23554134300048, -108.10983035299967)      PA   \n",
      "104270              NaN  (43.23554134300048, -108.10983035299967)      PA   \n",
      "104271              NaN  (43.23554134300048, -108.10983035299967)      PA   \n",
      "\n",
      "       TopicID QuestionID DataValueTypeID StratificationCategory1  \\\n",
      "0         OWS1       Q036           VALUE          Race/Ethnicity   \n",
      "1         OWS1       Q036           VALUE          Race/Ethnicity   \n",
      "2          PA1       Q044           VALUE                     Sex   \n",
      "3         OWS1       Q036           VALUE             Age (years)   \n",
      "4         OWS1       Q037           VALUE                  Income   \n",
      "...        ...        ...             ...                     ...   \n",
      "104267     PA1       Q047           VALUE               Education   \n",
      "104268     PA1       Q047           VALUE             Age (years)   \n",
      "104269     PA1       Q047           VALUE                  Income   \n",
      "104270     PA1       Q046           VALUE               Education   \n",
      "104271     PA1       Q047           VALUE             Age (years)   \n",
      "\n",
      "              Stratification1 StratificationCategoryId1 StratificationID1  \n",
      "0             2 or more races                      RACE         RACE2PLUS  \n",
      "1                       Other                      RACE           RACEOTH  \n",
      "2                      Female                       SEX            FEMALE  \n",
      "3                     35 - 44                     AGEYR         AGEYR3544  \n",
      "4           $15,000 - $24,999                       INC           INC1525  \n",
      "...                       ...                       ...               ...  \n",
      "104267   High school graduate                       EDU         EDUHSGRAD  \n",
      "104268            65 or older                     AGEYR       AGEYR65PLUS  \n",
      "104269      Data not reported                       INC             INCNR  \n",
      "104270  Less than high school                       EDU             EDUHS  \n",
      "104271                55 - 64                     AGEYR         AGEYR5564  \n",
      "\n",
      "[104272 rows x 24 columns]\n",
      "The names of the categorical columns are: ['LocationAbbr', 'LocationDesc', 'Datasource', 'Class', 'Topic', 'Question', 'Data_Value_Type', 'Data_Value_Footnote_Symbol', 'Data_Value_Footnote', 'Total', 'Age(years)', 'Education', 'Sex', 'Income', 'Race/Ethnicity', 'GeoLocation', 'ClassID', 'TopicID', 'QuestionID', 'DataValueTypeID', 'StratificationCategory1', 'Stratification1', 'StratificationCategoryId1', 'StratificationID1']\n"
     ]
    }
   ],
   "source": [
    "category_col = obesity.select_dtypes(include=[\"object\"]) #Saves all the categorical columns into a data frame\n",
    "print(category_col) #Taking a quick look at the columns\n",
    "category_names = list(category_col.columns) #This saves the names of the categorical columns as a list\n",
    "print(f\"The names of the categorical columns are: {category_names}\")"
   ]
  },
  {
   "cell_type": "markdown",
   "id": "bd2327f3-b3e1-44df-bb7c-d3d73c53611e",
   "metadata": {},
   "source": [
    "The class and topic columns appear to have redundancies. The data value type column also seems to be frivolous."
   ]
  },
  {
   "cell_type": "code",
   "execution_count": 15,
   "id": "3b85653c-b696-4a38-9455-73cc385e91c4",
   "metadata": {},
   "outputs": [
    {
     "data": {
      "text/plain": [
       "LocationAbbr                       0\n",
       "LocationDesc                       0\n",
       "Datasource                         0\n",
       "Class                              0\n",
       "Topic                              0\n",
       "Question                           0\n",
       "Data_Value_Type                    0\n",
       "Data_Value_Footnote_Symbol     93505\n",
       "Data_Value_Footnote            93505\n",
       "Total                         100548\n",
       "Age(years)                     81928\n",
       "Education                      89376\n",
       "Sex                            96824\n",
       "Income                         78204\n",
       "Race/Ethnicity                 74480\n",
       "GeoLocation                     1932\n",
       "ClassID                            0\n",
       "TopicID                            0\n",
       "QuestionID                         0\n",
       "DataValueTypeID                    0\n",
       "StratificationCategory1            0\n",
       "Stratification1                    0\n",
       "StratificationCategoryId1          0\n",
       "StratificationID1                  0\n",
       "dtype: int64"
      ]
     },
     "execution_count": 15,
     "metadata": {},
     "output_type": "execute_result"
    }
   ],
   "source": [
    "category_col.isna().sum() #This shows the number of NaN values per column"
   ]
  },
  {
   "cell_type": "markdown",
   "id": "3df44a09-ba43-407e-893c-1bcaa4ee80ef",
   "metadata": {},
   "source": [
    "The only two columns with the same amount of NaN values are the Data Value Footnote Symbol and the Data Value Footnote. "
   ]
  },
  {
   "cell_type": "code",
   "execution_count": null,
   "id": "4efa3d9f-e6ae-4c62-8517-1ef603939315",
   "metadata": {},
   "outputs": [],
   "source": [
    "# Obtain the general info for your data such as size, number of rows/columns, column names, describing the data etc.\n",
    "# What are the unique columns or variables present in your dataset?\n",
    "# Create one quick plot to visualize your data. It is okay if it is messy since your data has not been cleaned yet, but still make sure you are practicing good graphins with a title, axis labels, and anything else needed for your graph."
   ]
  },
  {
   "cell_type": "code",
   "execution_count": 21,
   "id": "97416607-1db2-4566-bef2-36d63064a8b9",
   "metadata": {},
   "outputs": [
    {
     "data": {
      "text/plain": [
       "['Fruits and Vegetables', 'Obesity / Weight Status', 'Physical Activity']"
      ]
     },
     "execution_count": 21,
     "metadata": {},
     "output_type": "execute_result"
    }
   ],
   "source": [
    "sorted(obesity[\"Class\"].unique()) #Prints out the unique values in the Class column alphabetically"
   ]
  },
  {
   "cell_type": "code",
   "execution_count": 22,
   "id": "458535a5-5628-4870-b89b-17640e56341b",
   "metadata": {},
   "outputs": [
    {
     "data": {
      "text/plain": [
       "['Fruits and Vegetables - Behavior',\n",
       " 'Obesity / Weight Status',\n",
       " 'Physical Activity - Behavior']"
      ]
     },
     "execution_count": 22,
     "metadata": {},
     "output_type": "execute_result"
    }
   ],
   "source": [
    "sorted(obesity[\"Topic\"].unique()) #Prints out the unique values in the Topic column alphabetically"
   ]
  },
  {
   "cell_type": "markdown",
   "id": "05e755d7-bb4b-45e9-bfbd-f455fbba6af4",
   "metadata": {},
   "source": [
    "After looking at the unique values of the Class and Topic column, I can say that having both is a redundancy. "
   ]
  },
  {
   "cell_type": "code",
   "execution_count": 23,
   "id": "aa565d0b-020d-487c-bd68-b94f017ca105",
   "metadata": {},
   "outputs": [
    {
     "data": {
      "text/plain": [
       "['Percent of adults aged 18 years and older who have an overweight classification',\n",
       " 'Percent of adults aged 18 years and older who have obesity',\n",
       " 'Percent of adults who achieve at least 150 minutes a week of moderate-intensity aerobic physical activity or 75 minutes a week of vigorous-intensity aerobic activity (or an equivalent combination)',\n",
       " 'Percent of adults who achieve at least 150 minutes a week of moderate-intensity aerobic physical activity or 75 minutes a week of vigorous-intensity aerobic physical activity and engage in muscle-strengthening activities on 2 or more days a week',\n",
       " 'Percent of adults who achieve at least 300 minutes a week of moderate-intensity aerobic physical activity or 150 minutes a week of vigorous-intensity aerobic activity (or an equivalent combination)',\n",
       " 'Percent of adults who engage in muscle-strengthening activities on 2 or more days a week',\n",
       " 'Percent of adults who engage in no leisure-time physical activity',\n",
       " 'Percent of adults who report consuming fruit less than one time daily',\n",
       " 'Percent of adults who report consuming vegetables less than one time daily']"
      ]
     },
     "execution_count": 23,
     "metadata": {},
     "output_type": "execute_result"
    }
   ],
   "source": [
    "sorted(obesity[\"Question\"].unique()) #Prints out the unique values in the Question column alphabetically"
   ]
  },
  {
   "cell_type": "markdown",
   "id": "ea4c82ad-4edf-4ec0-82d1-613019c7dd22",
   "metadata": {},
   "source": [
    "All of the question revolve around percent, answers the question as to what the Data Value unit should be. \n",
    "I would like the plot to look at the change in adult obesity over time."
   ]
  },
  {
   "cell_type": "code",
   "execution_count": 27,
   "id": "4eb35f9b-acab-4dc5-8afc-96e11db3c1e2",
   "metadata": {},
   "outputs": [
    {
     "name": "stdout",
     "output_type": "stream",
     "text": [
      "        YearStart  YearEnd LocationAbbr LocationDesc Datasource  \\\n",
      "0            2011     2011           AK       Alaska      BRFSS   \n",
      "1            2011     2011           AK       Alaska      BRFSS   \n",
      "3            2011     2011           AK       Alaska      BRFSS   \n",
      "5            2011     2011           AK       Alaska      BRFSS   \n",
      "11           2011     2011           AK       Alaska      BRFSS   \n",
      "...           ...      ...          ...          ...        ...   \n",
      "104244       2023     2023           WY      Wyoming      BRFSS   \n",
      "104256       2023     2023           WY      Wyoming      BRFSS   \n",
      "104257       2023     2023           WY      Wyoming      BRFSS   \n",
      "104258       2023     2023           WY      Wyoming      BRFSS   \n",
      "104260       2023     2023           WY      Wyoming      BRFSS   \n",
      "\n",
      "                          Class                    Topic  \\\n",
      "0       Obesity / Weight Status  Obesity / Weight Status   \n",
      "1       Obesity / Weight Status  Obesity / Weight Status   \n",
      "3       Obesity / Weight Status  Obesity / Weight Status   \n",
      "5       Obesity / Weight Status  Obesity / Weight Status   \n",
      "11      Obesity / Weight Status  Obesity / Weight Status   \n",
      "...                         ...                      ...   \n",
      "104244  Obesity / Weight Status  Obesity / Weight Status   \n",
      "104256  Obesity / Weight Status  Obesity / Weight Status   \n",
      "104257  Obesity / Weight Status  Obesity / Weight Status   \n",
      "104258  Obesity / Weight Status  Obesity / Weight Status   \n",
      "104260  Obesity / Weight Status  Obesity / Weight Status   \n",
      "\n",
      "                                                 Question  Data_Value_Unit  \\\n",
      "0       Percent of adults aged 18 years and older who ...           2011.0   \n",
      "1       Percent of adults aged 18 years and older who ...           2011.0   \n",
      "3       Percent of adults aged 18 years and older who ...           2011.0   \n",
      "5       Percent of adults aged 18 years and older who ...           2011.0   \n",
      "11      Percent of adults aged 18 years and older who ...           2011.0   \n",
      "...                                                   ...              ...   \n",
      "104244  Percent of adults aged 18 years and older who ...              NaN   \n",
      "104256  Percent of adults aged 18 years and older who ...              NaN   \n",
      "104257  Percent of adults aged 18 years and older who ...              NaN   \n",
      "104258  Percent of adults aged 18 years and older who ...              NaN   \n",
      "104260  Percent of adults aged 18 years and older who ...              NaN   \n",
      "\n",
      "       Data_Value_Type  ...                               GeoLocation  \\\n",
      "0                Value  ...         (64.845079957001, -147.722059036)   \n",
      "1                Value  ...         (64.845079957001, -147.722059036)   \n",
      "3                Value  ...         (64.845079957001, -147.722059036)   \n",
      "5                Value  ...         (64.845079957001, -147.722059036)   \n",
      "11               Value  ...         (64.845079957001, -147.722059036)   \n",
      "...                ...  ...                                       ...   \n",
      "104244           Value  ...  (43.23554134300048, -108.10983035299967)   \n",
      "104256           Value  ...  (43.23554134300048, -108.10983035299967)   \n",
      "104257           Value  ...  (43.23554134300048, -108.10983035299967)   \n",
      "104258           Value  ...  (43.23554134300048, -108.10983035299967)   \n",
      "104260           Value  ...  (43.23554134300048, -108.10983035299967)   \n",
      "\n",
      "        ClassID TopicID QuestionID  DataValueTypeID  LocationID  \\\n",
      "0           OWS    OWS1       Q036            VALUE           2   \n",
      "1           OWS    OWS1       Q036            VALUE           2   \n",
      "3           OWS    OWS1       Q036            VALUE           2   \n",
      "5           OWS    OWS1       Q036            VALUE           2   \n",
      "11          OWS    OWS1       Q036            VALUE           2   \n",
      "...         ...     ...        ...              ...         ...   \n",
      "104244      OWS    OWS1       Q036            VALUE          56   \n",
      "104256      OWS    OWS1       Q036            VALUE          56   \n",
      "104257      OWS    OWS1       Q036            VALUE          56   \n",
      "104258      OWS    OWS1       Q036            VALUE          56   \n",
      "104260      OWS    OWS1       Q036            VALUE          56   \n",
      "\n",
      "        StratificationCategory1       Stratification1  \\\n",
      "0                Race/Ethnicity       2 or more races   \n",
      "1                Race/Ethnicity                 Other   \n",
      "3                   Age (years)               35 - 44   \n",
      "5                           Sex                  Male   \n",
      "11                          Sex                Female   \n",
      "...                         ...                   ...   \n",
      "104244           Race/Ethnicity              Hispanic   \n",
      "104256              Age (years)               35 - 44   \n",
      "104257                Education  High school graduate   \n",
      "104258                   Income     Less than $15,000   \n",
      "104260              Age (years)               45 - 54   \n",
      "\n",
      "       StratificationCategoryId1 StratificationID1  \n",
      "0                           RACE         RACE2PLUS  \n",
      "1                           RACE           RACEOTH  \n",
      "3                          AGEYR         AGEYR3544  \n",
      "5                            SEX              MALE  \n",
      "11                           SEX            FEMALE  \n",
      "...                          ...               ...  \n",
      "104244                      RACE           RACEHIS  \n",
      "104256                     AGEYR         AGEYR3544  \n",
      "104257                       EDU         EDUHSGRAD  \n",
      "104258                       INC         INCLESS15  \n",
      "104260                     AGEYR         AGEYR4554  \n",
      "\n",
      "[19684 rows x 33 columns]\n"
     ]
    }
   ],
   "source": [
    "obesity_filtered = obesity[obesity[\"Question\"] == \"Percent of adults aged 18 years and older who have obesity\"] #Creates a data frame for only entries about obesity in aults\n",
    "print(obesity_filtered)"
   ]
  },
  {
   "cell_type": "code",
   "execution_count": 32,
   "id": "bc8c4670-43ab-42a0-aa31-bd893020bd5b",
   "metadata": {},
   "outputs": [
    {
     "data": {
      "text/plain": [
       "['Age (years)', 'Education', 'Income', 'Race/Ethnicity', 'Sex', 'Total']"
      ]
     },
     "execution_count": 32,
     "metadata": {},
     "output_type": "execute_result"
    }
   ],
   "source": [
    "sorted(obesity_filtered[\"StratificationCategory1\"].unique()) #Shows all the unique values for the Stratification Category 1"
   ]
  },
  {
   "cell_type": "markdown",
   "id": "076eaacc-20f1-4328-a8bb-69f65b2aff6a",
   "metadata": {},
   "source": [
    "To look at adult obesity over time, I want to only use the \"Total\" numbers."
   ]
  },
  {
   "cell_type": "code",
   "execution_count": 40,
   "id": "87f500fa-fc79-4941-8ece-3cc27cf0c1aa",
   "metadata": {},
   "outputs": [
    {
     "name": "stdout",
     "output_type": "stream",
     "text": [
      "        YearStart  YearEnd LocationAbbr   LocationDesc Datasource  \\\n",
      "53           2011     2011           AK         Alaska      BRFSS   \n",
      "352          2011     2011           AL        Alabama      BRFSS   \n",
      "392          2011     2011           AR       Arkansas      BRFSS   \n",
      "750          2011     2011           AZ        Arizona      BRFSS   \n",
      "943          2011     2011           CA     California      BRFSS   \n",
      "...           ...      ...          ...            ...        ...   \n",
      "103407       2023     2023           VT        Vermont      BRFSS   \n",
      "103611       2023     2023           WA     Washington      BRFSS   \n",
      "103731       2023     2023           WI      Wisconsin      BRFSS   \n",
      "104006       2023     2023           WV  West Virginia      BRFSS   \n",
      "104168       2023     2023           WY        Wyoming      BRFSS   \n",
      "\n",
      "                          Class                    Topic  \\\n",
      "53      Obesity / Weight Status  Obesity / Weight Status   \n",
      "352     Obesity / Weight Status  Obesity / Weight Status   \n",
      "392     Obesity / Weight Status  Obesity / Weight Status   \n",
      "750     Obesity / Weight Status  Obesity / Weight Status   \n",
      "943     Obesity / Weight Status  Obesity / Weight Status   \n",
      "...                         ...                      ...   \n",
      "103407  Obesity / Weight Status  Obesity / Weight Status   \n",
      "103611  Obesity / Weight Status  Obesity / Weight Status   \n",
      "103731  Obesity / Weight Status  Obesity / Weight Status   \n",
      "104006  Obesity / Weight Status  Obesity / Weight Status   \n",
      "104168  Obesity / Weight Status  Obesity / Weight Status   \n",
      "\n",
      "                                                 Question  Data_Value_Unit  \\\n",
      "53      Percent of adults aged 18 years and older who ...           2011.0   \n",
      "352     Percent of adults aged 18 years and older who ...           2011.0   \n",
      "392     Percent of adults aged 18 years and older who ...           2011.0   \n",
      "750     Percent of adults aged 18 years and older who ...           2011.0   \n",
      "943     Percent of adults aged 18 years and older who ...           2011.0   \n",
      "...                                                   ...              ...   \n",
      "103407  Percent of adults aged 18 years and older who ...              NaN   \n",
      "103611  Percent of adults aged 18 years and older who ...              NaN   \n",
      "103731  Percent of adults aged 18 years and older who ...              NaN   \n",
      "104006  Percent of adults aged 18 years and older who ...              NaN   \n",
      "104168  Percent of adults aged 18 years and older who ...              NaN   \n",
      "\n",
      "       Data_Value_Type  ...                               GeoLocation  \\\n",
      "53               Value  ...         (64.845079957001, -147.722059036)   \n",
      "352              Value  ...             (32.840571122, -86.631860762)   \n",
      "392              Value  ...             (34.748650124, -92.274490743)   \n",
      "750              Value  ...             (34.86597028, -111.763811277)   \n",
      "943              Value  ...            (37.638640123, -120.999999538)   \n",
      "...                ...  ...                                       ...   \n",
      "103407           Value  ...   (43.62538123900049, -72.51764079099962)   \n",
      "103611           Value  ...  (47.52227862900048, -120.47001078999972)   \n",
      "103731           Value  ...   (44.39319117400049, -89.81637074199966)   \n",
      "104006           Value  ...   (38.66551020200046, -80.71264013499967)   \n",
      "104168           Value  ...  (43.23554134300048, -108.10983035299967)   \n",
      "\n",
      "        ClassID TopicID QuestionID  DataValueTypeID  LocationID  \\\n",
      "53          OWS    OWS1       Q036            VALUE           2   \n",
      "352         OWS    OWS1       Q036            VALUE           1   \n",
      "392         OWS    OWS1       Q036            VALUE           5   \n",
      "750         OWS    OWS1       Q036            VALUE           4   \n",
      "943         OWS    OWS1       Q036            VALUE           6   \n",
      "...         ...     ...        ...              ...         ...   \n",
      "103407      OWS    OWS1       Q036            VALUE          50   \n",
      "103611      OWS    OWS1       Q036            VALUE          53   \n",
      "103731      OWS    OWS1       Q036            VALUE          55   \n",
      "104006      OWS    OWS1       Q036            VALUE          54   \n",
      "104168      OWS    OWS1       Q036            VALUE          56   \n",
      "\n",
      "        StratificationCategory1 Stratification1 StratificationCategoryId1  \\\n",
      "53                        Total           Total                       OVR   \n",
      "352                       Total           Total                       OVR   \n",
      "392                       Total           Total                       OVR   \n",
      "750                       Total           Total                       OVR   \n",
      "943                       Total           Total                       OVR   \n",
      "...                         ...             ...                       ...   \n",
      "103407                    Total           Total                       OVR   \n",
      "103611                    Total           Total                       OVR   \n",
      "103731                    Total           Total                       OVR   \n",
      "104006                    Total           Total                       OVR   \n",
      "104168                    Total           Total                       OVR   \n",
      "\n",
      "       StratificationID1  \n",
      "53               OVERALL  \n",
      "352              OVERALL  \n",
      "392              OVERALL  \n",
      "750              OVERALL  \n",
      "943              OVERALL  \n",
      "...                  ...  \n",
      "103407           OVERALL  \n",
      "103611           OVERALL  \n",
      "103731           OVERALL  \n",
      "104006           OVERALL  \n",
      "104168           OVERALL  \n",
      "\n",
      "[703 rows x 33 columns]\n"
     ]
    }
   ],
   "source": [
    "obesity_filtered_total = obesity_filtered[obesity_filtered[\"StratificationCategory1\"] == \"Total\"] #Creates a dataframe that only includes the \"Total\" numbers\n",
    "print(obesity_filtered_total)"
   ]
  },
  {
   "cell_type": "markdown",
   "id": "4a38f3d5-507d-4971-a0cc-2eca926e745c",
   "metadata": {},
   "source": [
    "#### Visualizing the Data:"
   ]
  },
  {
   "cell_type": "code",
   "execution_count": 39,
   "id": "3fbfba8d-8065-4def-978d-0d5cf33b825f",
   "metadata": {},
   "outputs": [
    {
     "data": {
      "image/png": "[encoded data removed]",
      "text/plain": [
       "<Figure size 640x480 with 1 Axes>"
      ]
     },
     "metadata": {},
     "output_type": "display_data"
    }
   ],
   "source": [
    "plt.plot(obesity_filtered_total[\"YearStart\"], obesity_filtered_total[\"Data_Value\"])\n",
    "plt.title(\"Change in Adult Obesity over Time\")\n",
    "plt.xlabel(\"Year\")\n",
    "plt.ylabel(\"Percent of Adults who are Obese\")\n",
    "plt.show()"
   ]
  },
  {
   "cell_type": "markdown",
   "id": "19cdfc4b-968f-4be6-896b-bb2a7fe0d1d8",
   "metadata": {},
   "source": [
    "Because the total numbers are not averaged and their are multiple entries for each year, the line graph is very messy. If the data was cleaned and the numbers were averaged, the graph would be cleaner. Even with uncleaned data, the graph shows an upward trend in obesity rates."
   ]
  },
  {
   "cell_type": "markdown",
   "id": "8ce67fcf",
   "metadata": {},
   "source": [
    "# Assignment #2 - Data Gathering and Warehousing - DSSA-5102\n",
    "\n",
    "Instructor: Melissa Laurino</br>\n",
    "Spring 2025</br>\n",
    "\n",
    "Our next objective is to choose <b>ONE</b> of the datasets from our previous assignment to explore further. The datasets we have chose for Assignment #1 can be cleaned by practicing our Python skills. Depending on your data, and especially the size of it, it may be more beneficial to clean in a language you are comfortable working in already instead of cleaning our data with a new language like SQL. SQL may be needed for cleaning of databases that are very large or hundreds of terabytes in size. We will clean our datasets first before we attempt to load them into our SQL databases. </br>\n",
    "Not only is data everywhere, but it can also be messy. Messy data can originate in the data collection process, whether this is occurring with manual data entry and typos, or with outdated collection forms that hold multiple variables that mean the same thing. For example, while collecting data on marine mammals, it is important to note who the observer is. With Python and R, reading excel or csv files, these languages will take the same variable written as, \"Melissa Laurino\" and \"melissa laurino\" as two separate observers because they are case sensitive. However, this is not accurate because they are meant to be the same person within the observer column or category.</br>\n",
    "Clean data is important for consistency that leads to accurate results and analysis. If we are using our data to make informed decisions in our field, we need it to be clean. We do not want to omit rows that may make a difference to our dataset because they do not fit a certain criteria due to typos, but how much should the original dataset be altered? Depending on your field, there may be regulations and compliance standards regarding data quality. Protocols may state if the data does not read exactly how it should be, then it should be ommitted. </br>\n",
    "For our learning objectives in this class, we will clean our data. Our first assignment in our warehousing journey was important because it allowed us to gain a better understanding of a dataset that we personally did not collect. Now that we have that understanding, we can explore it in greater depth and clean it as necessary.<br>\n",
    "<br>\n",
    "For Assignment #2, our objective is to clean one of the datasets explored above using Python to prepare for our future database from scratch. Include at a minimum:\n",
    "\n",
    "- The chosen dataset name, company/organization resonsible for data collection, the download link, and date of access.\n",
    "- Load neccessary packages and data (Only if you start a new session in Jupyter, not if you are continuing from above).\n",
    "- Make all column names lower case, contain no spaces, and no special characters (SQL will not like this otherwise).\n",
    "- *Make detailed comments with your code* <br>\n",
    "- *Record EVERYTHING ommitted and changed if necessary* <br>\n",
    "- Since we are exploring and learning without a specific organization policy, use your best judgement when ommitting records. If you have chosen to ommit data, please explain why.</br>\n",
    "- Save your new CLEAN data as a .csv file. \n",
    "\n",
    "\n",
    "Comment ALL code to recieve full credit. The above bullet points are to help guide you in your process, but extensive cleaning is expected for your data set (This will also save you a lot of time down the line!). \n",
    "<br>\n",
    "\n",
    "<br>\n",
    "<b>The code that I have written below is just to give you ideas on exploring and cleaning data. It is encouraged that you explore and clean it in greater detail than what I have written below for full credit.</b><br>"
   ]
  },
  {
   "cell_type": "markdown",
   "id": "b07cb638-34d9-4342-92bb-f405ae1789cd",
   "metadata": {},
   "source": [
    "<b>Dataset name:</b> U.S. Chronic Disease Indicators<br>\n",
    "<b>Company/Government Organization: </b>Centers for Disease Control and Prevention (CDC)<br>\n",
    "Download link: https://data.cdc.gov/d/hksd-2xuw<br>\n",
    "Date of Access: February 6, 2025"
   ]
  },
  {
   "cell_type": "markdown",
   "id": "a707f9e0-68fe-4304-8bbe-a13921b7bf78",
   "metadata": {},
   "source": [
    "#### Why did you choose to continue working with this dataset?\n",
    "I like that this dataset includes information and data on multiple different health concerns. I have an interest in diabetes, alcoholism, tobacco use, and obesity. All four topics are health issues that run in my family. I would like to learn more about each but I am unsure which to focus on first."
   ]
  },
  {
   "cell_type": "markdown",
   "id": "f9ef7438-5ea9-4f23-9dbc-cd473851af4a",
   "metadata": {},
   "source": [
    "#### Load the Neccessary Packages:"
   ]
  },
  {
   "cell_type": "code",
   "execution_count": 4,
   "id": "55a33a66-690b-4caa-aad6-5da4d5ff25da",
   "metadata": {},
   "outputs": [],
   "source": [
    "import pandas as pd # Reads, writes, shapes, manipulates data\n",
    "import numpy as np # Basic stats and numerical operations\n",
    "import matplotlib.pyplot as plt # Creating basic graphs"
   ]
  },
  {
   "cell_type": "markdown",
   "id": "c36bd471-7b0f-42f4-adc5-0d49e7b53c84",
   "metadata": {},
   "source": [
    "#### Load the Data:"
   ]
  },
  {
   "cell_type": "code",
   "execution_count": 5,
   "id": "c14f876b-4e90-4f72-898e-81b33253ad69",
   "metadata": {},
   "outputs": [],
   "source": [
    "disease = pd.read_csv(\"U.S._Chronic_Disease_Indicators_20250210.csv\",delimiter=\",\")"
   ]
  },
  {
   "cell_type": "markdown",
   "id": "6f4ee693-cd11-4094-9a74-a46e43714d56",
   "metadata": {},
   "source": [
    "#### Clean the Column Names:"
   ]
  },
  {
   "cell_type": "code",
   "execution_count": 6,
   "id": "036950c4-ea6f-4a21-abef-b82e18831b85",
   "metadata": {
    "scrolled": true
   },
   "outputs": [
    {
     "data": {
      "text/plain": [
       "Index(['YearStart', 'YearEnd', 'LocationAbbr', 'LocationDesc', 'DataSource',\n",
       "       'Topic', 'Question', 'Response', 'DataValueUnit', 'DataValueType',\n",
       "       'DataValue', 'DataValueAlt', 'DataValueFootnoteSymbol',\n",
       "       'DataValueFootnote', 'LowConfidenceLimit', 'HighConfidenceLimit',\n",
       "       'StratificationCategory1', 'Stratification1', 'StratificationCategory2',\n",
       "       'Stratification2', 'StratificationCategory3', 'Stratification3',\n",
       "       'Geolocation', 'LocationID', 'TopicID', 'QuestionID', 'ResponseID',\n",
       "       'DataValueTypeID', 'StratificationCategoryID1', 'StratificationID1',\n",
       "       'StratificationCategoryID2', 'StratificationID2',\n",
       "       'StratificationCategoryID3', 'StratificationID3'],\n",
       "      dtype='object')"
      ]
     },
     "execution_count": 6,
     "metadata": {},
     "output_type": "execute_result"
    }
   ],
   "source": [
    "disease.columns #Taking another quick look at the column names"
   ]
  },
  {
   "cell_type": "code",
   "execution_count": 7,
   "id": "d52a3582-5aee-40c3-8560-9b1454e247bd",
   "metadata": {
    "scrolled": true
   },
   "outputs": [
    {
     "data": {
      "text/plain": [
       "Index(['year_start', 'year_end', 'location_abbr', 'location_desc',\n",
       "       'data_source', 'topic', 'question', 'response', 'data_value_unit',\n",
       "       'data_value_type', 'data_value', 'data_value_alt',\n",
       "       'data_value_footnote_symbol', 'data_value_footnote',\n",
       "       'low_confidence_limit', 'high_confidence_limit',\n",
       "       'stratification_category_1', 'stratification_1',\n",
       "       'stratification_category_2', 'stratification_2',\n",
       "       'stratification_category_3', 'stratification_3', 'geo_location',\n",
       "       'location_id', 'topic_id', 'question_id', 'response_id',\n",
       "       'data_value_type_id', 'stratification_category_id_1',\n",
       "       'stratification_id_1', 'stratification_category_id_2',\n",
       "       'stratification_id_2', 'stratification_category_id_3',\n",
       "       'stratification_id_3'],\n",
       "      dtype='object')"
      ]
     },
     "execution_count": 7,
     "metadata": {},
     "output_type": "execute_result"
    }
   ],
   "source": [
    "#Making the column names lowercase with underscores\n",
    "disease.rename(columns = {'YearStart': \"year_start\", 'YearEnd': \"year_end\", 'LocationAbbr': \"location_abbr\", 'LocationDesc': \"location_desc\", \n",
    "                          'DataSource': \"data_source\", 'Topic': \"topic\", 'Question': \"question\", 'Response': \"response\", \n",
    "                          'DataValueUnit': \"data_value_unit\", 'DataValueType': \"data_value_type\", 'DataValue': \"data_value\", \n",
    "                          'DataValueAlt': \"data_value_alt\", 'DataValueFootnoteSymbol': \"data_value_footnote_symbol\", \n",
    "                          'DataValueFootnote': \"data_value_footnote\", 'LowConfidenceLimit': \"low_confidence_limit\", \n",
    "                          'HighConfidenceLimit': \"high_confidence_limit\", 'StratificationCategory1': \"stratification_category_1\", \n",
    "                          'Stratification1': \"stratification_1\", 'StratificationCategory2': \"stratification_category_2\", \n",
    "                          'Stratification2': \"stratification_2\", 'StratificationCategory3': \"stratification_category_3\", \n",
    "                          'Stratification3': \"stratification_3\", 'Geolocation': \"geo_location\", 'LocationID': \"location_id\", 'TopicID': \"topic_id\", \n",
    "                          'QuestionID': \"question_id\", 'ResponseID': \"response_id\", 'DataValueTypeID': \"data_value_type_id\", \n",
    "                          'StratificationCategoryID1': \"stratification_category_id_1\", 'StratificationID1': \"stratification_id_1\",\n",
    "                          'StratificationCategoryID2': \"stratification_category_id_2\", 'StratificationID2': \"stratification_id_2\",\n",
    "                          'StratificationCategoryID3': \"stratification_category_id_3\", 'StratificationID3': \"stratification_id_3\"}, inplace=True)\n",
    "    #I took this long way of changing the column names because the majority of the names needed an underscore added.\n",
    "disease.columns #Checking my work"
   ]
  },
  {
   "cell_type": "markdown",
   "id": "e997f0b6-4937-4383-9761-461b695b8a3f",
   "metadata": {},
   "source": [
    "#### Finding and Dealing with NaN values:"
   ]
  },
  {
   "cell_type": "code",
   "execution_count": 8,
   "id": "adfcc6df-6a25-4dcf-95f3-97d389595711",
   "metadata": {},
   "outputs": [
    {
     "data": {
      "text/plain": [
       "year_start                           0\n",
       "year_end                             0\n",
       "location_abbr                        0\n",
       "location_desc                        0\n",
       "data_source                          0\n",
       "topic                                0\n",
       "question                             0\n",
       "response                        309215\n",
       "data_value_unit                      0\n",
       "data_value_type                      0\n",
       "data_value                      100019\n",
       "data_value_alt                  100019\n",
       "data_value_footnote_symbol      207499\n",
       "data_value_footnote             207499\n",
       "low_confidence_limit            120330\n",
       "high_confidence_limit           120325\n",
       "stratification_category_1            0\n",
       "stratification_1                     0\n",
       "stratification_category_2       309215\n",
       "stratification_2                309215\n",
       "stratification_category_3       309215\n",
       "stratification_3                309215\n",
       "geo_location                      5763\n",
       "location_id                          0\n",
       "topic_id                             0\n",
       "question_id                          0\n",
       "response_id                     309215\n",
       "data_value_type_id                   0\n",
       "stratification_category_id_1         0\n",
       "stratification_id_1                  0\n",
       "stratification_category_id_2    309215\n",
       "stratification_id_2             309215\n",
       "stratification_category_id_3    309215\n",
       "stratification_id_3             309215\n",
       "dtype: int64"
      ]
     },
     "execution_count": 8,
     "metadata": {},
     "output_type": "execute_result"
    }
   ],
   "source": [
    "disease.isna().sum() #This will count the NaN for each column"
   ]
  },
  {
   "cell_type": "code",
   "execution_count": 9,
   "id": "e6ab7e05",
   "metadata": {},
   "outputs": [
    {
     "name": "stdout",
     "output_type": "stream",
     "text": [
      "<class 'pandas.core.frame.DataFrame'>\n",
      "RangeIndex: 309215 entries, 0 to 309214\n",
      "Data columns (total 34 columns):\n",
      " #   Column                        Non-Null Count   Dtype  \n",
      "---  ------                        --------------   -----  \n",
      " 0   year_start                    309215 non-null  int64  \n",
      " 1   year_end                      309215 non-null  int64  \n",
      " 2   location_abbr                 309215 non-null  object \n",
      " 3   location_desc                 309215 non-null  object \n",
      " 4   data_source                   309215 non-null  object \n",
      " 5   topic                         309215 non-null  object \n",
      " 6   question                      309215 non-null  object \n",
      " 7   response                      0 non-null       float64\n",
      " 8   data_value_unit               309215 non-null  object \n",
      " 9   data_value_type               309215 non-null  object \n",
      " 10  data_value                    209196 non-null  float64\n",
      " 11  data_value_alt                209196 non-null  float64\n",
      " 12  data_value_footnote_symbol    101716 non-null  object \n",
      " 13  data_value_footnote           101716 non-null  object \n",
      " 14  low_confidence_limit          188885 non-null  float64\n",
      " 15  high_confidence_limit         188890 non-null  float64\n",
      " 16  stratification_category_1     309215 non-null  object \n",
      " 17  stratification_1              309215 non-null  object \n",
      " 18  stratification_category_2     0 non-null       float64\n",
      " 19  stratification_2              0 non-null       float64\n",
      " 20  stratification_category_3     0 non-null       float64\n",
      " 21  stratification_3              0 non-null       float64\n",
      " 22  geo_location                  303452 non-null  object \n",
      " 23  location_id                   309215 non-null  int64  \n",
      " 24  topic_id                      309215 non-null  object \n",
      " 25  question_id                   309215 non-null  object \n",
      " 26  response_id                   0 non-null       float64\n",
      " 27  data_value_type_id            309215 non-null  object \n",
      " 28  stratification_category_id_1  309215 non-null  object \n",
      " 29  stratification_id_1           309215 non-null  object \n",
      " 30  stratification_category_id_2  0 non-null       float64\n",
      " 31  stratification_id_2           0 non-null       float64\n",
      " 32  stratification_category_id_3  0 non-null       float64\n",
      " 33  stratification_id_3           0 non-null       float64\n",
      "dtypes: float64(14), int64(3), object(17)\n",
      "memory usage: 80.2+ MB\n"
     ]
    }
   ],
   "source": [
    "disease.info() #Looking at the dimensions of the dataset again "
   ]
  },
  {
   "cell_type": "markdown",
   "id": "a4b7fc0b-afb8-4290-a35a-c1633f427ed5",
   "metadata": {},
   "source": [
    "After looking at the number of NaN and re-examining the dimensions of the dataset, it is clear that 10 columns can and should be removed. \n",
    "These 10 columns are completely blank. "
   ]
  },
  {
   "cell_type": "code",
   "execution_count": 10,
   "id": "eb86068e",
   "metadata": {},
   "outputs": [
    {
     "name": "stdout",
     "output_type": "stream",
     "text": [
      "<class 'pandas.core.frame.DataFrame'>\n",
      "RangeIndex: 309215 entries, 0 to 309214\n",
      "Data columns (total 24 columns):\n",
      " #   Column                        Non-Null Count   Dtype  \n",
      "---  ------                        --------------   -----  \n",
      " 0   year_start                    309215 non-null  int64  \n",
      " 1   year_end                      309215 non-null  int64  \n",
      " 2   location_abbr                 309215 non-null  object \n",
      " 3   location_desc                 309215 non-null  object \n",
      " 4   data_source                   309215 non-null  object \n",
      " 5   topic                         309215 non-null  object \n",
      " 6   question                      309215 non-null  object \n",
      " 7   data_value_unit               309215 non-null  object \n",
      " 8   data_value_type               309215 non-null  object \n",
      " 9   data_value                    209196 non-null  float64\n",
      " 10  data_value_alt                209196 non-null  float64\n",
      " 11  data_value_footnote_symbol    101716 non-null  object \n",
      " 12  data_value_footnote           101716 non-null  object \n",
      " 13  low_confidence_limit          188885 non-null  float64\n",
      " 14  high_confidence_limit         188890 non-null  float64\n",
      " 15  stratification_category_1     309215 non-null  object \n",
      " 16  stratification_1              309215 non-null  object \n",
      " 17  geo_location                  303452 non-null  object \n",
      " 18  location_id                   309215 non-null  int64  \n",
      " 19  topic_id                      309215 non-null  object \n",
      " 20  question_id                   309215 non-null  object \n",
      " 21  data_value_type_id            309215 non-null  object \n",
      " 22  stratification_category_id_1  309215 non-null  object \n",
      " 23  stratification_id_1           309215 non-null  object \n",
      "dtypes: float64(4), int64(3), object(17)\n",
      "memory usage: 56.6+ MB\n"
     ]
    },
    {
     "data": {
      "text/plain": [
       "year_start                           0\n",
       "year_end                             0\n",
       "location_abbr                        0\n",
       "location_desc                        0\n",
       "data_source                          0\n",
       "topic                                0\n",
       "question                             0\n",
       "data_value_unit                      0\n",
       "data_value_type                      0\n",
       "data_value                      100019\n",
       "data_value_alt                  100019\n",
       "data_value_footnote_symbol      207499\n",
       "data_value_footnote             207499\n",
       "low_confidence_limit            120330\n",
       "high_confidence_limit           120325\n",
       "stratification_category_1            0\n",
       "stratification_1                     0\n",
       "geo_location                      5763\n",
       "location_id                          0\n",
       "topic_id                             0\n",
       "question_id                          0\n",
       "data_value_type_id                   0\n",
       "stratification_category_id_1         0\n",
       "stratification_id_1                  0\n",
       "dtype: int64"
      ]
     },
     "execution_count": 10,
     "metadata": {},
     "output_type": "execute_result"
    }
   ],
   "source": [
    "disease_clean = disease.drop([\"response\",\"stratification_category_2\",\"stratification_2\",\"stratification_category_3\",\"stratification_3\",\"response_id\",\n",
    "                             \"stratification_category_id_2\",\"stratification_id_2\", \"stratification_category_id_3\", \"stratification_id_3\"], axis=1)\n",
    "    #This removes the ten columns that have no entries present.\n",
    "\n",
    "disease_clean.info() #Checking my work\n",
    "disease_clean.isna().sum() #Checking the NaN count for the remaining columns"
   ]
  },
  {
   "cell_type": "markdown",
   "id": "20e3ce27-ca7a-4939-858a-1710c2e26ae3",
   "metadata": {},
   "source": [
    "The data value column is the most important piece of numerical infomation in the data frame. \n",
    "Entries that have NaN for the data value column will not be used and therefore can be omited. "
   ]
  },
  {
   "cell_type": "code",
   "execution_count": 11,
   "id": "f1fb688b-a75b-4c29-a085-21b2507e10d1",
   "metadata": {},
   "outputs": [
    {
     "data": {
      "text/plain": [
       "year_start                           0\n",
       "year_end                             0\n",
       "location_abbr                        0\n",
       "location_desc                        0\n",
       "data_source                          0\n",
       "topic                                0\n",
       "question                             0\n",
       "data_value_unit                      0\n",
       "data_value_type                      0\n",
       "data_value                           0\n",
       "data_value_alt                       0\n",
       "data_value_footnote_symbol      207499\n",
       "data_value_footnote             207499\n",
       "low_confidence_limit             20311\n",
       "high_confidence_limit            20306\n",
       "stratification_category_1            0\n",
       "stratification_1                     0\n",
       "geo_location                      5066\n",
       "location_id                          0\n",
       "topic_id                             0\n",
       "question_id                          0\n",
       "data_value_type_id                   0\n",
       "stratification_category_id_1         0\n",
       "stratification_id_1                  0\n",
       "dtype: int64"
      ]
     },
     "execution_count": 11,
     "metadata": {},
     "output_type": "execute_result"
    }
   ],
   "source": [
    "disease_clean = disease_clean.dropna(subset=[\"data_value\"]) #Removes any NaN values in the data value column\n",
    "disease_clean.isna().sum() #Checking my work"
   ]
  },
  {
   "cell_type": "markdown",
   "id": "9c6cd348-9eaf-479b-a063-c8a307fa0df5",
   "metadata": {},
   "source": [
    "All the NaN were removed from the data_value column and the data_value_alt column."
   ]
  },
  {
   "cell_type": "markdown",
   "id": "f1fd5f75-5f9b-4b5e-a4fd-acb0beac55a3",
   "metadata": {},
   "source": [
    "#### Looking at Unique Values and Finding Typos:"
   ]
  },
  {
   "cell_type": "code",
   "execution_count": 12,
   "id": "41130588-908d-4b9b-9475-b93a44eca37f",
   "metadata": {},
   "outputs": [
    {
     "data": {
      "text/plain": [
       "Index(['year_start', 'year_end', 'location_abbr', 'location_desc',\n",
       "       'data_source', 'topic', 'question', 'data_value_unit',\n",
       "       'data_value_type', 'data_value', 'data_value_alt',\n",
       "       'data_value_footnote_symbol', 'data_value_footnote',\n",
       "       'low_confidence_limit', 'high_confidence_limit',\n",
       "       'stratification_category_1', 'stratification_1', 'geo_location',\n",
       "       'location_id', 'topic_id', 'question_id', 'data_value_type_id',\n",
       "       'stratification_category_id_1', 'stratification_id_1'],\n",
       "      dtype='object')"
      ]
     },
     "execution_count": 12,
     "metadata": {},
     "output_type": "execute_result"
    }
   ],
   "source": [
    "disease_clean.columns #Reminding myself of all the column names"
   ]
  },
  {
   "cell_type": "code",
   "execution_count": 13,
   "id": "122d9423-f09d-4dcb-8a2c-588943f06055",
   "metadata": {},
   "outputs": [
    {
     "data": {
      "text/plain": [
       "[2015, 2016, 2018, 2019, 2020, 2021, 2022]"
      ]
     },
     "execution_count": 13,
     "metadata": {},
     "output_type": "execute_result"
    }
   ],
   "source": [
    "sorted(disease_clean[\"year_start\"].unique()) #Prints out the unique year start values"
   ]
  },
  {
   "cell_type": "code",
   "execution_count": 14,
   "id": "daf2d788-1505-47c9-98f0-ba6938aab9d1",
   "metadata": {},
   "outputs": [
    {
     "data": {
      "text/plain": [
       "[2019, 2020, 2021, 2022]"
      ]
     },
     "execution_count": 14,
     "metadata": {},
     "output_type": "execute_result"
    }
   ],
   "source": [
    "sorted(disease_clean[\"year_end\"].unique()) # Prints out the unique year end values"
   ]
  },
  {
   "cell_type": "code",
   "execution_count": 15,
   "id": "b953bce3-403a-4230-b37c-ac3093a2aa1e",
   "metadata": {},
   "outputs": [
    {
     "data": {
      "text/plain": [
       "['AK',\n",
       " 'AL',\n",
       " 'AR',\n",
       " 'AZ',\n",
       " 'CA',\n",
       " 'CO',\n",
       " 'CT',\n",
       " 'DC',\n",
       " 'DE',\n",
       " 'FL',\n",
       " 'GA',\n",
       " 'GU',\n",
       " 'HI',\n",
       " 'IA',\n",
       " 'ID',\n",
       " 'IL',\n",
       " 'IN',\n",
       " 'KS',\n",
       " 'KY',\n",
       " 'LA',\n",
       " 'MA',\n",
       " 'MD',\n",
       " 'ME',\n",
       " 'MI',\n",
       " 'MN',\n",
       " 'MO',\n",
       " 'MS',\n",
       " 'MT',\n",
       " 'NC',\n",
       " 'ND',\n",
       " 'NE',\n",
       " 'NH',\n",
       " 'NJ',\n",
       " 'NM',\n",
       " 'NV',\n",
       " 'NY',\n",
       " 'OH',\n",
       " 'OK',\n",
       " 'OR',\n",
       " 'PA',\n",
       " 'PR',\n",
       " 'RI',\n",
       " 'SC',\n",
       " 'SD',\n",
       " 'TN',\n",
       " 'TX',\n",
       " 'US',\n",
       " 'UT',\n",
       " 'VA',\n",
       " 'VI',\n",
       " 'VT',\n",
       " 'WA',\n",
       " 'WI',\n",
       " 'WV',\n",
       " 'WY']"
      ]
     },
     "execution_count": 15,
     "metadata": {},
     "output_type": "execute_result"
    }
   ],
   "source": [
    "sorted(disease_clean[\"location_abbr\"].unique()) #Prints out the unique location abbreviation values"
   ]
  },
  {
   "cell_type": "code",
   "execution_count": 16,
   "id": "56313730-1008-45a8-b37f-404405844ed5",
   "metadata": {},
   "outputs": [
    {
     "data": {
      "text/plain": [
       "['Alabama',\n",
       " 'Alaska',\n",
       " 'Arizona',\n",
       " 'Arkansas',\n",
       " 'California',\n",
       " 'Colorado',\n",
       " 'Connecticut',\n",
       " 'Delaware',\n",
       " 'District of Columbia',\n",
       " 'Florida',\n",
       " 'Georgia',\n",
       " 'Guam',\n",
       " 'Hawaii',\n",
       " 'Idaho',\n",
       " 'Illinois',\n",
       " 'Indiana',\n",
       " 'Iowa',\n",
       " 'Kansas',\n",
       " 'Kentucky',\n",
       " 'Louisiana',\n",
       " 'Maine',\n",
       " 'Maryland',\n",
       " 'Massachusetts',\n",
       " 'Michigan',\n",
       " 'Minnesota',\n",
       " 'Mississippi',\n",
       " 'Missouri',\n",
       " 'Montana',\n",
       " 'Nebraska',\n",
       " 'Nevada',\n",
       " 'New Hampshire',\n",
       " 'New Jersey',\n",
       " 'New Mexico',\n",
       " 'New York',\n",
       " 'North Carolina',\n",
       " 'North Dakota',\n",
       " 'Ohio',\n",
       " 'Oklahoma',\n",
       " 'Oregon',\n",
       " 'Pennsylvania',\n",
       " 'Puerto Rico',\n",
       " 'Rhode Island',\n",
       " 'South Carolina',\n",
       " 'South Dakota',\n",
       " 'Tennessee',\n",
       " 'Texas',\n",
       " 'United States',\n",
       " 'Utah',\n",
       " 'Vermont',\n",
       " 'Virgin Islands',\n",
       " 'Virginia',\n",
       " 'Washington',\n",
       " 'West Virginia',\n",
       " 'Wisconsin',\n",
       " 'Wyoming']"
      ]
     },
     "execution_count": 16,
     "metadata": {},
     "output_type": "execute_result"
    }
   ],
   "source": [
    "sorted(disease_clean[\"location_desc\"].unique()) #Prints out the unique location values"
   ]
  },
  {
   "cell_type": "code",
   "execution_count": 17,
   "id": "c8dd64aa-42a0-49f5-adc5-2fac9e4d105e",
   "metadata": {},
   "outputs": [
    {
     "data": {
      "text/plain": [
       "['ACS',\n",
       " 'AEDS',\n",
       " 'ANRF',\n",
       " 'BRFSS',\n",
       " 'CMS Part A Claims Data',\n",
       " 'Current Population Survey - FSS',\n",
       " 'NIS',\n",
       " 'NSCH',\n",
       " 'NVSS',\n",
       " 'PRAMS',\n",
       " 'US Cancer DVT',\n",
       " 'USRDS',\n",
       " 'WIC Participant and Program Characteristics',\n",
       " 'YRBSS']"
      ]
     },
     "execution_count": 17,
     "metadata": {},
     "output_type": "execute_result"
    }
   ],
   "source": [
    "sorted(disease_clean[\"data_source\"].unique()) #Prints out the unique data source values"
   ]
  },
  {
   "cell_type": "code",
   "execution_count": 18,
   "id": "7052d6b0-f55c-426d-aca7-122a160cb988",
   "metadata": {},
   "outputs": [
    {
     "data": {
      "text/plain": [
       "['Alcohol',\n",
       " 'Arthritis',\n",
       " 'Asthma',\n",
       " 'Cancer',\n",
       " 'Cardiovascular Disease',\n",
       " 'Chronic Kidney Disease',\n",
       " 'Chronic Obstructive Pulmonary Disease',\n",
       " 'Cognitive Health and Caregiving',\n",
       " 'Diabetes',\n",
       " 'Disability',\n",
       " 'Health Status',\n",
       " 'Immunization',\n",
       " 'Maternal Health',\n",
       " 'Mental Health',\n",
       " 'Nutrition, Physical Activity, and Weight Status',\n",
       " 'Oral Health',\n",
       " 'Sleep',\n",
       " 'Social Determinants of Health',\n",
       " 'Tobacco']"
      ]
     },
     "execution_count": 18,
     "metadata": {},
     "output_type": "execute_result"
    }
   ],
   "source": [
    "sorted(disease_clean[\"topic\"].unique()) #Prints out the unique topic values"
   ]
  },
  {
   "cell_type": "code",
   "execution_count": 19,
   "id": "60111ec6-1839-4afe-ae78-479d9fe17f6a",
   "metadata": {},
   "outputs": [
    {
     "data": {
      "text/plain": [
       "['2 or more chronic conditions among adults',\n",
       " 'Activity limitation due to arthritis among adults with arthritis',\n",
       " 'Adults with any disability',\n",
       " 'Alcohol use among high school students',\n",
       " 'All teeth lost among adults aged 65 years and older',\n",
       " 'Arthritis among adults',\n",
       " 'Asthma mortality among all people, underlying cause',\n",
       " 'Average mentally unhealthy days among adults',\n",
       " 'Average recent physically unhealthy days among adults',\n",
       " 'Binge drinking frequency among adults who binge drink',\n",
       " 'Binge drinking intensity among adults who binge drink',\n",
       " 'Binge drinking prevalence among adults',\n",
       " 'Binge drinking prevalence among high school students',\n",
       " 'Breast cancer mortality among all females, underlying cause',\n",
       " 'Cerebrovascular disease (stroke) mortality among all people, underlying cause',\n",
       " 'Cervical cancer mortality among all females, underlying cause',\n",
       " 'Cervical cancer screening among women aged 21-65 years',\n",
       " 'Children and adolescents aged 6-13 years meeting aerobic physical activity guideline',\n",
       " 'Chronic liver disease mortality among all people, underlying cause',\n",
       " 'Chronic obstructive pulmonary disease among adults',\n",
       " 'Chronic obstructive pulmonary disease mortality among adults aged 45 years and older, underlying cause',\n",
       " 'Chronic obstructive pulmonary disease mortality among adults aged 45 years and older, underlying or contributing cause',\n",
       " 'Cigarette smoking during pregnancy among women with a recent live birth',\n",
       " 'Colon and rectum (colorectal) cancer mortality among all people, underlying cause',\n",
       " 'Colorectal cancer screening among adults aged 45-75 years',\n",
       " 'Consumed fruit less than one time daily among adults',\n",
       " 'Consumed fruit less than one time daily among high school students',\n",
       " 'Consumed regular soda at least one time daily among high school students',\n",
       " 'Consumed vegetables less than one time daily among adults',\n",
       " 'Consumed vegetables less than one time daily among high school students',\n",
       " 'Coronary heart disease mortality among all people, underlying cause',\n",
       " 'Current asthma among adults',\n",
       " 'Current cigarette smoking among adults',\n",
       " 'Current electronic vapor product use among high school students',\n",
       " 'Current poor mental health among high school students',\n",
       " 'Current smokeless tobacco use among high school students',\n",
       " 'Current smoking among adults with chronic obstructive pulmonary disease',\n",
       " 'Current tobacco use of any tobacco product among high school students',\n",
       " 'Depression among adults',\n",
       " 'Diabetes among adults',\n",
       " 'Diabetes mortality among all people, underlying or contributing cause',\n",
       " 'Diabetic ketoacidosis mortality among all people, underlying or contributing cause',\n",
       " 'Discussed symptoms of subjective cognitive decline with a health care professional among adults aged 45 years and older with subjective cognitive decline',\n",
       " 'Diseases of the heart mortality among all people, underlying cause',\n",
       " 'Fair or poor self-rated health status among adults',\n",
       " 'Food insecure in the past 12 months among households',\n",
       " 'Frequent mental distress among adults',\n",
       " 'Frequent physical distress among adults',\n",
       " 'Gestational diabetes among women with a recent live birth',\n",
       " 'Have taken an educational class to learn how to manage arthritis symptoms among adults with arthritis',\n",
       " 'Health insurance coverage after pregnancy among women with a recent live birth',\n",
       " 'Health insurance coverage in the month before pregnancy among women with a recent live birth',\n",
       " 'High blood pressure among adults',\n",
       " 'High cholesterol among adults who have been screened',\n",
       " 'High school completion among adults aged 18-24',\n",
       " 'Hospitalization for chronic obstructive pulmonary disease as any diagnosis, Medicare-beneficiaries aged 65 years and older',\n",
       " 'Hospitalization for chronic obstructive pulmonary disease as principal diagnosis, Medicare-beneficiaries aged 65 years and older',\n",
       " 'Hospitalization for heart failure as principal diagnosis, Medicare-beneficiaries aged 65 years and older',\n",
       " 'Incidence of treated end-stage kidney disease',\n",
       " 'Infants who were breastfed at 12 months',\n",
       " 'Infants who were exclusively breastfed through 6 months',\n",
       " 'Influenza vaccination among adults',\n",
       " 'Influenza vaccination among adults 18â€“64 who are at increased risk',\n",
       " 'Invasive cancer (all sites combined) mortality among all people, underlying cause',\n",
       " 'Invasive cancer (all sites combined), incidence',\n",
       " 'Lack of health insurance among adults aged 18-64 years',\n",
       " 'Lack of reliable transportation in the past 12 months among adults',\n",
       " 'Lack of social and emotional support needed among adults',\n",
       " 'Life expectancy at birth',\n",
       " 'Living below 150% of the poverty threshold among all people',\n",
       " 'Lung and bronchial cancer mortality among all people, underlying cause',\n",
       " 'Mammography use among women aged 50-74 years',\n",
       " 'Met aerobic physical activity guideline among high school students',\n",
       " 'Met aerobic physical activity guideline for substantial health benefits, adults',\n",
       " 'No broadband internet subscription among households',\n",
       " 'No leisure-time physical activity among adults',\n",
       " 'No teeth lost among adults aged 18-64 years',\n",
       " 'Obesity among WIC children aged 2 to 4 years',\n",
       " 'Obesity among adults',\n",
       " 'Obesity among high school students',\n",
       " 'Per capita alcohol consumption among people aged 14 years and older',\n",
       " 'Physical inactivity among adults with arthritis',\n",
       " 'Pneumococcal vaccination among adults aged 18â€“64 years who are at increased risk',\n",
       " 'Pneumococcal vaccination among adults aged 65 years and older',\n",
       " 'Postpartum checkup among women with a recent live birth',\n",
       " 'Postpartum depressive symptoms among women with a recent live birth',\n",
       " 'Preventive dental care in the 12 months before pregnancy among women with a recent live birth',\n",
       " 'Proportion of the population protected by a comprehensive smoke-free policy prohibiting smoking in all indoor areas of workplaces and public places, including restaurants and bars',\n",
       " 'Prostate cancer mortality among all males, underlying cause',\n",
       " 'Provided care for a friend or family member in the past month among adults',\n",
       " 'Provided care for someone with dementia or other cognitive impairment in the past month among adults',\n",
       " 'Quit attempts in the past year among adult current smokers',\n",
       " 'Receipt of evidence-based preventive dental services in the past 12 months among children and adolescents aged 1-17 years',\n",
       " 'Received health care provider counseling for physical activity among adults with arthritis',\n",
       " 'Recent activity limitation among adults',\n",
       " 'Routine checkup within the past year among adults',\n",
       " 'Severe joint pain among adults with arthritis',\n",
       " 'Short sleep duration among adults',\n",
       " 'Short sleep duration among children aged 4 months to 14 years',\n",
       " 'Short sleep duration among high school students',\n",
       " 'Six or more teeth lost among adults aged 65 years and older',\n",
       " 'Subjective cognitive decline among adults aged 45 years and older',\n",
       " 'Taking medicine for high cholesterol among adults',\n",
       " 'Taking medicine to control high blood pressure among adults with high blood pressure',\n",
       " 'Unable to pay mortgage, rent, or utility bills in the past 12 months among adults',\n",
       " 'Unemployment rate among people 16 years and older in the labor force',\n",
       " 'Visited dentist or dental clinic in the past year among adults',\n",
       " 'Visited dentist or other oral health care provider in the past 12 months among children and adolescents aged 1-17 years',\n",
       " 'Work limitation due to arthritis among adults aged 18-64 years with arthritis']"
      ]
     },
     "execution_count": 19,
     "metadata": {},
     "output_type": "execute_result"
    }
   ],
   "source": [
    "sorted(disease_clean[\"question\"].unique()) #Prints out the unique question values"
   ]
  },
  {
   "cell_type": "markdown",
   "id": "82f4823e-6fd9-4081-a853-9cfc2669d9e2",
   "metadata": {},
   "source": [
    "There are two typos in the question column. These are with how the phase 18-64 were entered and then loaded into jupyter notebook."
   ]
  },
  {
   "cell_type": "code",
   "execution_count": 20,
   "id": "413a64e3-dc48-4373-b5e3-54cec7ed229f",
   "metadata": {},
   "outputs": [
    {
     "data": {
      "text/plain": [
       "['2 or more chronic conditions among adults',\n",
       " 'Activity limitation due to arthritis among adults with arthritis',\n",
       " 'Adults with any disability',\n",
       " 'Alcohol use among high school students',\n",
       " 'All teeth lost among adults aged 65 years and older',\n",
       " 'Arthritis among adults',\n",
       " 'Asthma mortality among all people, underlying cause',\n",
       " 'Average mentally unhealthy days among adults',\n",
       " 'Average recent physically unhealthy days among adults',\n",
       " 'Binge drinking frequency among adults who binge drink',\n",
       " 'Binge drinking intensity among adults who binge drink',\n",
       " 'Binge drinking prevalence among adults',\n",
       " 'Binge drinking prevalence among high school students',\n",
       " 'Breast cancer mortality among all females, underlying cause',\n",
       " 'Cerebrovascular disease (stroke) mortality among all people, underlying cause',\n",
       " 'Cervical cancer mortality among all females, underlying cause',\n",
       " 'Cervical cancer screening among women aged 21-65 years',\n",
       " 'Children and adolescents aged 6-13 years meeting aerobic physical activity guideline',\n",
       " 'Chronic liver disease mortality among all people, underlying cause',\n",
       " 'Chronic obstructive pulmonary disease among adults',\n",
       " 'Chronic obstructive pulmonary disease mortality among adults aged 45 years and older, underlying cause',\n",
       " 'Chronic obstructive pulmonary disease mortality among adults aged 45 years and older, underlying or contributing cause',\n",
       " 'Cigarette smoking during pregnancy among women with a recent live birth',\n",
       " 'Colon and rectum (colorectal) cancer mortality among all people, underlying cause',\n",
       " 'Colorectal cancer screening among adults aged 45-75 years',\n",
       " 'Consumed fruit less than one time daily among adults',\n",
       " 'Consumed fruit less than one time daily among high school students',\n",
       " 'Consumed regular soda at least one time daily among high school students',\n",
       " 'Consumed vegetables less than one time daily among adults',\n",
       " 'Consumed vegetables less than one time daily among high school students',\n",
       " 'Coronary heart disease mortality among all people, underlying cause',\n",
       " 'Current asthma among adults',\n",
       " 'Current cigarette smoking among adults',\n",
       " 'Current electronic vapor product use among high school students',\n",
       " 'Current poor mental health among high school students',\n",
       " 'Current smokeless tobacco use among high school students',\n",
       " 'Current smoking among adults with chronic obstructive pulmonary disease',\n",
       " 'Current tobacco use of any tobacco product among high school students',\n",
       " 'Depression among adults',\n",
       " 'Diabetes among adults',\n",
       " 'Diabetes mortality among all people, underlying or contributing cause',\n",
       " 'Diabetic ketoacidosis mortality among all people, underlying or contributing cause',\n",
       " 'Discussed symptoms of subjective cognitive decline with a health care professional among adults aged 45 years and older with subjective cognitive decline',\n",
       " 'Diseases of the heart mortality among all people, underlying cause',\n",
       " 'Fair or poor self-rated health status among adults',\n",
       " 'Food insecure in the past 12 months among households',\n",
       " 'Frequent mental distress among adults',\n",
       " 'Frequent physical distress among adults',\n",
       " 'Gestational diabetes among women with a recent live birth',\n",
       " 'Have taken an educational class to learn how to manage arthritis symptoms among adults with arthritis',\n",
       " 'Health insurance coverage after pregnancy among women with a recent live birth',\n",
       " 'Health insurance coverage in the month before pregnancy among women with a recent live birth',\n",
       " 'High blood pressure among adults',\n",
       " 'High cholesterol among adults who have been screened',\n",
       " 'High school completion among adults aged 18-24',\n",
       " 'Hospitalization for chronic obstructive pulmonary disease as any diagnosis, Medicare-beneficiaries aged 65 years and older',\n",
       " 'Hospitalization for chronic obstructive pulmonary disease as principal diagnosis, Medicare-beneficiaries aged 65 years and older',\n",
       " 'Hospitalization for heart failure as principal diagnosis, Medicare-beneficiaries aged 65 years and older',\n",
       " 'Incidence of treated end-stage kidney disease',\n",
       " 'Infants who were breastfed at 12 months',\n",
       " 'Infants who were exclusively breastfed through 6 months',\n",
       " 'Influenza vaccination among adults',\n",
       " 'Influenza vaccination among adults 18-64 who are at increased risk',\n",
       " 'Invasive cancer (all sites combined) mortality among all people, underlying cause',\n",
       " 'Invasive cancer (all sites combined), incidence',\n",
       " 'Lack of health insurance among adults aged 18-64 years',\n",
       " 'Lack of reliable transportation in the past 12 months among adults',\n",
       " 'Lack of social and emotional support needed among adults',\n",
       " 'Life expectancy at birth',\n",
       " 'Living below 150% of the poverty threshold among all people',\n",
       " 'Lung and bronchial cancer mortality among all people, underlying cause',\n",
       " 'Mammography use among women aged 50-74 years',\n",
       " 'Met aerobic physical activity guideline among high school students',\n",
       " 'Met aerobic physical activity guideline for substantial health benefits, adults',\n",
       " 'No broadband internet subscription among households',\n",
       " 'No leisure-time physical activity among adults',\n",
       " 'No teeth lost among adults aged 18-64 years',\n",
       " 'Obesity among WIC children aged 2 to 4 years',\n",
       " 'Obesity among adults',\n",
       " 'Obesity among high school students',\n",
       " 'Per capita alcohol consumption among people aged 14 years and older',\n",
       " 'Physical inactivity among adults with arthritis',\n",
       " 'Pneumococcal vaccination among adults aged 18-64 years who are at increased risk',\n",
       " 'Pneumococcal vaccination among adults aged 65 years and older',\n",
       " 'Postpartum checkup among women with a recent live birth',\n",
       " 'Postpartum depressive symptoms among women with a recent live birth',\n",
       " 'Preventive dental care in the 12 months before pregnancy among women with a recent live birth',\n",
       " 'Proportion of the population protected by a comprehensive smoke-free policy prohibiting smoking in all indoor areas of workplaces and public places, including restaurants and bars',\n",
       " 'Prostate cancer mortality among all males, underlying cause',\n",
       " 'Provided care for a friend or family member in the past month among adults',\n",
       " 'Provided care for someone with dementia or other cognitive impairment in the past month among adults',\n",
       " 'Quit attempts in the past year among adult current smokers',\n",
       " 'Receipt of evidence-based preventive dental services in the past 12 months among children and adolescents aged 1-17 years',\n",
       " 'Received health care provider counseling for physical activity among adults with arthritis',\n",
       " 'Recent activity limitation among adults',\n",
       " 'Routine checkup within the past year among adults',\n",
       " 'Severe joint pain among adults with arthritis',\n",
       " 'Short sleep duration among adults',\n",
       " 'Short sleep duration among children aged 4 months to 14 years',\n",
       " 'Short sleep duration among high school students',\n",
       " 'Six or more teeth lost among adults aged 65 years and older',\n",
       " 'Subjective cognitive decline among adults aged 45 years and older',\n",
       " 'Taking medicine for high cholesterol among adults',\n",
       " 'Taking medicine to control high blood pressure among adults with high blood pressure',\n",
       " 'Unable to pay mortgage, rent, or utility bills in the past 12 months among adults',\n",
       " 'Unemployment rate among people 16 years and older in the labor force',\n",
       " 'Visited dentist or dental clinic in the past year among adults',\n",
       " 'Visited dentist or other oral health care provider in the past 12 months among children and adolescents aged 1-17 years',\n",
       " 'Work limitation due to arthritis among adults aged 18-64 years with arthritis']"
      ]
     },
     "execution_count": 20,
     "metadata": {},
     "output_type": "execute_result"
    }
   ],
   "source": [
    "disease_clean[\"question\"] = disease_clean[\"question\"].replace(\"Influenza vaccination among adults 18â€“64 who are at increased risk\", \n",
    "                                                              \"Influenza vaccination among adults 18-64 who are at increased risk\")\n",
    "disease_clean[\"question\"] = disease_clean[\"question\"].replace(\"Pneumococcal vaccination among adults aged 18â€“64 years who are at increased risk\",\n",
    "                                                              \"Pneumococcal vaccination among adults aged 18-64 years who are at increased risk\")\n",
    "    #This replaces the typo with the corrected entry.\n",
    "sorted(disease_clean[\"question\"].unique()) #Checking my work"
   ]
  },
  {
   "cell_type": "code",
   "execution_count": 21,
   "id": "f7d1d06f-abe7-4555-ade3-7556a6103754",
   "metadata": {},
   "outputs": [
    {
     "data": {
      "text/plain": [
       "['%',\n",
       " 'Number',\n",
       " 'Years',\n",
       " 'cases per 1,000',\n",
       " 'cases per 1,000,000',\n",
       " 'cases per 100,000',\n",
       " 'gallons',\n",
       " 'per 100,000']"
      ]
     },
     "execution_count": 21,
     "metadata": {},
     "output_type": "execute_result"
    }
   ],
   "source": [
    "sorted(disease_clean[\"data_value_unit\"].unique()) #Prints the unique data value unit entries"
   ]
  },
  {
   "cell_type": "code",
   "execution_count": 22,
   "id": "3e248442-e95a-4e81-b16b-4313b8c883e8",
   "metadata": {},
   "outputs": [
    {
     "data": {
      "text/plain": [
       "['Adjusted rate by age, sex, race and ethnicity',\n",
       " 'Age-adjusted Mean',\n",
       " 'Age-adjusted Prevalence',\n",
       " 'Age-adjusted Rate',\n",
       " 'Crude 75th percentile',\n",
       " 'Crude Mean',\n",
       " 'Crude Median',\n",
       " 'Crude Prevalence',\n",
       " 'Crude Rate',\n",
       " 'Number',\n",
       " 'Per capita alcohol consumption gallons',\n",
       " 'Proportion']"
      ]
     },
     "execution_count": 22,
     "metadata": {},
     "output_type": "execute_result"
    }
   ],
   "source": [
    "sorted(disease_clean[\"data_value_type\"].unique()) #Prints the unique data value type entries"
   ]
  },
  {
   "cell_type": "code",
   "execution_count": 23,
   "id": "6518775d-f1b1-45b8-816e-fca848c35c46",
   "metadata": {},
   "outputs": [
    {
     "data": {
      "text/plain": [
       "['Age', 'Grade', 'Overall', 'Race/Ethnicity', 'Sex']"
      ]
     },
     "execution_count": 23,
     "metadata": {},
     "output_type": "execute_result"
    }
   ],
   "source": [
    "sorted(disease_clean[\"stratification_category_1\"].unique()) #This prints the unique stratification category 1 entries"
   ]
  },
  {
   "cell_type": "code",
   "execution_count": 24,
   "id": "64533022-1a7f-420e-a72d-3f4cd17d42d2",
   "metadata": {},
   "outputs": [
    {
     "data": {
      "text/plain": [
       "['Age 0-44',\n",
       " 'Age 1-5',\n",
       " 'Age 10-13',\n",
       " 'Age 12-17',\n",
       " 'Age 18-44',\n",
       " 'Age 4 m - 5 y',\n",
       " 'Age 45-64',\n",
       " 'Age 6-11',\n",
       " 'Age 6-14',\n",
       " 'Age 6-9',\n",
       " 'Age >=65',\n",
       " 'American Indian or Alaska Native, non-Hispanic',\n",
       " 'Asian or Pacific Islander, non-Hispanic',\n",
       " 'Asian, non-Hispanic',\n",
       " 'Black, non-Hispanic',\n",
       " 'Female',\n",
       " 'Grade 10',\n",
       " 'Grade 11',\n",
       " 'Grade 12',\n",
       " 'Grade 9',\n",
       " 'Hawaiian or Pacific Islander, non-Hispanic',\n",
       " 'Hispanic',\n",
       " 'Male',\n",
       " 'Multiracial, non-Hispanic',\n",
       " 'Overall',\n",
       " 'White, non-Hispanic']"
      ]
     },
     "execution_count": 24,
     "metadata": {},
     "output_type": "execute_result"
    }
   ],
   "source": [
    "sorted(disease_clean[\"stratification_1\"].unique()) #This prints the unique stratification 1 entries"
   ]
  },
  {
   "cell_type": "code",
   "execution_count": 28,
   "id": "81b14698-dfc2-47ad-a846-faa1031f5551",
   "metadata": {},
   "outputs": [
    {
     "data": {
      "text/plain": [
       "['AGE', 'GRADE', 'OVERALL', 'RACE', 'SEX']"
      ]
     },
     "execution_count": 28,
     "metadata": {},
     "output_type": "execute_result"
    }
   ],
   "source": [
    "sorted(disease_clean[\"stratification_category_id_1\"].unique()) #This prints the unique stratification category ID 1 entries"
   ]
  },
  {
   "cell_type": "markdown",
   "id": "aa71a17f-6ea3-4ee7-823d-c77b5553465c",
   "metadata": {},
   "source": [
    "This column is redundant for the stratification category column. The IDs do not differ from the original column, with one exception. \n",
    "The Race/Ethnicity entry in the stratification category column is only referred to as race in the ID column.\n",
    "The ID column will be removed to make the dataset easier to read."
   ]
  },
  {
   "cell_type": "code",
   "execution_count": null,
   "id": "657652b5-342a-480b-9dc9-d20afa81de56",
   "metadata": {},
   "outputs": [],
   "source": [
    "disease_clean = disease_clean.drop([\"stratification_category_id_1\"], axis=1) #Removes the redundant column\n",
    "disease_clean.columns #Checking my work"
   ]
  },
  {
   "cell_type": "code",
   "execution_count": 29,
   "id": "234643e1-e2c7-4d6d-91c7-896ef3bca2ef",
   "metadata": {},
   "outputs": [
    {
     "data": {
      "text/plain": [
       "['AGE0_44',\n",
       " 'AGE1013',\n",
       " 'AGE1217',\n",
       " 'AGE1844',\n",
       " 'AGE1_5',\n",
       " 'AGE4564',\n",
       " 'AGE4M5Y',\n",
       " 'AGE65P',\n",
       " 'AGE6_11',\n",
       " 'AGE6_14',\n",
       " 'AGE6_9',\n",
       " 'AIAN',\n",
       " 'API',\n",
       " 'ASN',\n",
       " 'BLK',\n",
       " 'GRD10',\n",
       " 'GRD11',\n",
       " 'GRD12',\n",
       " 'GRD9',\n",
       " 'HAPI',\n",
       " 'HIS',\n",
       " 'MRC',\n",
       " 'OVR',\n",
       " 'SEXF',\n",
       " 'SEXM',\n",
       " 'WHT']"
      ]
     },
     "execution_count": 29,
     "metadata": {},
     "output_type": "execute_result"
    }
   ],
   "source": [
    "sorted(disease_clean[\"stratification_id_1\"].unique()) #This prints the unique stratification ID 1 entries"
   ]
  },
  {
   "cell_type": "markdown",
   "id": "b0b8cc82-5a33-41d6-94b7-aedf1eafc98b",
   "metadata": {},
   "source": [
    "**Using describe to check the numeric columns**"
   ]
  },
  {
   "cell_type": "code",
   "execution_count": 25,
   "id": "cb7524c2-a52f-481d-943c-0bb4a418b5de",
   "metadata": {},
   "outputs": [
    {
     "data": {
      "text/html": [
       "<div>\n",
       "<style scoped>\n",
       "    .dataframe tbody tr th:only-of-type {\n",
       "        vertical-align: middle;\n",
       "    }\n",
       "\n",
       "    .dataframe tbody tr th {\n",
       "        vertical-align: top;\n",
       "    }\n",
       "\n",
       "    .dataframe thead th {\n",
       "        text-align: right;\n",
       "    }\n",
       "</style>\n",
       "<table border=\"1\" class=\"dataframe\">\n",
       "  <thead>\n",
       "    <tr style=\"text-align: right;\">\n",
       "      <th></th>\n",
       "      <th>year_start</th>\n",
       "      <th>year_end</th>\n",
       "      <th>data_value</th>\n",
       "      <th>data_value_alt</th>\n",
       "      <th>low_confidence_limit</th>\n",
       "      <th>high_confidence_limit</th>\n",
       "      <th>location_id</th>\n",
       "    </tr>\n",
       "  </thead>\n",
       "  <tbody>\n",
       "    <tr>\n",
       "      <th>count</th>\n",
       "      <td>209196.000000</td>\n",
       "      <td>209196.000000</td>\n",
       "      <td>2.091960e+05</td>\n",
       "      <td>2.091960e+05</td>\n",
       "      <td>188885.000000</td>\n",
       "      <td>188890.000000</td>\n",
       "      <td>209196.000000</td>\n",
       "    </tr>\n",
       "    <tr>\n",
       "      <th>mean</th>\n",
       "      <td>2019.969560</td>\n",
       "      <td>2020.273872</td>\n",
       "      <td>6.943569e+02</td>\n",
       "      <td>7.356701e+02</td>\n",
       "      <td>36.825051</td>\n",
       "      <td>46.030554</td>\n",
       "      <td>30.453054</td>\n",
       "    </tr>\n",
       "    <tr>\n",
       "      <th>std</th>\n",
       "      <td>1.593928</td>\n",
       "      <td>1.067931</td>\n",
       "      <td>1.620341e+04</td>\n",
       "      <td>1.834715e+04</td>\n",
       "      <td>65.025590</td>\n",
       "      <td>69.995643</td>\n",
       "      <td>17.060731</td>\n",
       "    </tr>\n",
       "    <tr>\n",
       "      <th>min</th>\n",
       "      <td>2015.000000</td>\n",
       "      <td>2019.000000</td>\n",
       "      <td>0.000000e+00</td>\n",
       "      <td>0.000000e+00</td>\n",
       "      <td>0.000000</td>\n",
       "      <td>0.000000</td>\n",
       "      <td>1.000000</td>\n",
       "    </tr>\n",
       "    <tr>\n",
       "      <th>25%</th>\n",
       "      <td>2019.000000</td>\n",
       "      <td>2019.000000</td>\n",
       "      <td>1.240000e+01</td>\n",
       "      <td>1.240000e+01</td>\n",
       "      <td>9.100000</td>\n",
       "      <td>14.000000</td>\n",
       "      <td>17.000000</td>\n",
       "    </tr>\n",
       "    <tr>\n",
       "      <th>50%</th>\n",
       "      <td>2020.000000</td>\n",
       "      <td>2020.000000</td>\n",
       "      <td>2.700000e+01</td>\n",
       "      <td>2.700000e+01</td>\n",
       "      <td>19.500000</td>\n",
       "      <td>29.200000</td>\n",
       "      <td>30.000000</td>\n",
       "    </tr>\n",
       "    <tr>\n",
       "      <th>75%</th>\n",
       "      <td>2021.000000</td>\n",
       "      <td>2021.000000</td>\n",
       "      <td>5.780000e+01</td>\n",
       "      <td>5.780000e+01</td>\n",
       "      <td>40.300000</td>\n",
       "      <td>54.300000</td>\n",
       "      <td>44.000000</td>\n",
       "    </tr>\n",
       "    <tr>\n",
       "      <th>max</th>\n",
       "      <td>2022.000000</td>\n",
       "      <td>2022.000000</td>\n",
       "      <td>2.925456e+06</td>\n",
       "      <td>2.925456e+06</td>\n",
       "      <td>1427.000000</td>\n",
       "      <td>1485.900000</td>\n",
       "      <td>78.000000</td>\n",
       "    </tr>\n",
       "  </tbody>\n",
       "</table>\n",
       "</div>"
      ],
      "text/plain": [
       "          year_start       year_end    data_value  data_value_alt  \\\n",
       "count  209196.000000  209196.000000  2.091960e+05    2.091960e+05   \n",
       "mean     2019.969560    2020.273872  6.943569e+02    7.356701e+02   \n",
       "std         1.593928       1.067931  1.620341e+04    1.834715e+04   \n",
       "min      2015.000000    2019.000000  0.000000e+00    0.000000e+00   \n",
       "25%      2019.000000    2019.000000  1.240000e+01    1.240000e+01   \n",
       "50%      2020.000000    2020.000000  2.700000e+01    2.700000e+01   \n",
       "75%      2021.000000    2021.000000  5.780000e+01    5.780000e+01   \n",
       "max      2022.000000    2022.000000  2.925456e+06    2.925456e+06   \n",
       "\n",
       "       low_confidence_limit  high_confidence_limit    location_id  \n",
       "count         188885.000000          188890.000000  209196.000000  \n",
       "mean              36.825051              46.030554      30.453054  \n",
       "std               65.025590              69.995643      17.060731  \n",
       "min                0.000000               0.000000       1.000000  \n",
       "25%                9.100000              14.000000      17.000000  \n",
       "50%               19.500000              29.200000      30.000000  \n",
       "75%               40.300000              54.300000      44.000000  \n",
       "max             1427.000000            1485.900000      78.000000  "
      ]
     },
     "execution_count": 25,
     "metadata": {},
     "output_type": "execute_result"
    }
   ],
   "source": [
    "num_col_clean = disease_clean.select_dtypes(include=[\"int64\",\"float64\"]) #This saves the numeric columns in their own dataframe.\n",
    "num_col_clean.describe()"
   ]
  },
  {
   "cell_type": "markdown",
   "id": "42aebfef-f71f-4e30-889d-7a8e107f89a4",
   "metadata": {},
   "source": [
    "The similarities in the data value and the data value alt column, sent me to look into the original metadata. \n",
    "The data value alt column is equal to the data value column but the formatting is numeric. The alt column will be removed."
   ]
  },
  {
   "cell_type": "code",
   "execution_count": 37,
   "id": "6f0c4e17-d4c4-4d60-be24-c7caebc7f11d",
   "metadata": {},
   "outputs": [
    {
     "data": {
      "text/plain": [
       "Index(['year_start', 'year_end', 'location_abbr', 'location_desc',\n",
       "       'data_source', 'topic', 'question', 'data_value_unit',\n",
       "       'data_value_type', 'data_value', 'data_value_footnote_symbol',\n",
       "       'data_value_footnote', 'low_confidence_limit', 'high_confidence_limit',\n",
       "       'stratification_category_1', 'stratification_1', 'geo_location',\n",
       "       'location_id', 'topic_id', 'question_id', 'data_value_type_id',\n",
       "       'stratification_id_1'],\n",
       "      dtype='object')"
      ]
     },
     "execution_count": 37,
     "metadata": {},
     "output_type": "execute_result"
    }
   ],
   "source": [
    "disease_clean = disease_clean.drop([\"data_value_alt\"], axis=1) #Removes the redundant column\n",
    "disease_clean.columns #Checking my work"
   ]
  },
  {
   "cell_type": "markdown",
   "id": "cfcb40ee-6412-4196-aa20-a4833d361578",
   "metadata": {
    "scrolled": true
   },
   "source": [
    "#### Saving the Clean Data:"
   ]
  },
  {
   "cell_type": "code",
   "execution_count": 38,
   "id": "50adf40b-6ff0-4605-b2af-b42d2e8e9af2",
   "metadata": {},
   "outputs": [],
   "source": [
    "disease_clean.to_csv(\"Chronic_Disease_Indicators_clean(1).csv\", index=False)"
   ]
  }
 ],
 "metadata": {
  "kernelspec": {
   "display_name": "Python 3 (ipykernel)",
   "language": "python",
   "name": "python3"
  },
  "language_info": {
   "codemirror_mode": {
    "name": "ipython",
    "version": 3
   },
   "file_extension": ".py",
   "mimetype": "text/x-python",
   "name": "python",
   "nbconvert_exporter": "python",
   "pygments_lexer": "ipython3",
   "version": "3.12.7"
  }
 },
 "nbformat": 4,
 "nbformat_minor": 5
}
